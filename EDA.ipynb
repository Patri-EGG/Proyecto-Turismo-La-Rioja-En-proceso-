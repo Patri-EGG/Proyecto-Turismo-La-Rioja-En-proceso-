{
 "cells": [
  {
   "cell_type": "code",
   "execution_count": 29,
   "metadata": {},
   "outputs": [],
   "source": [
    "import pandas as pd\n",
    "import os"
   ]
  },
  {
   "cell_type": "code",
   "execution_count": 30,
   "metadata": {},
   "outputs": [
    {
     "name": "stdout",
     "output_type": "stream",
     "text": [
      "\n",
      "Cargando y verificando Gasto de los turistas internacionales según via de acceso principal...\n",
      "\n",
      "Cargando y verificando Gasto de los turistas internacionales según alojamiento principal...\n",
      "\n",
      "Cargando y verificando Gasto de los turistas internacionales según motivo principal del viaje...\n",
      "\n",
      "Cargando y verificando Gasto de los turistas internacionales según país de residencia...\n",
      "\n",
      "Cargando y verificando Gasto de los turistas internacionales según forma organización del viaje...\n",
      "\n",
      "Cargando y verificando Gasto de los turistas internacionales según duración del viaje...\n",
      "\n",
      "Cargando y verificando Gasto de los turistas internacionales según partidas de gasto...\n",
      "\n",
      "Cargando y verificando Número de turistas según via de acceso principal...\n",
      "\n",
      "Cargando y verificando Número de turistas según alojamiento principal...\n",
      "\n",
      "Cargando y verificando Número de turistas según motivo principal del viaje...\n",
      "\n",
      "Cargando y verificando Número de turistas según país de residencia...\n",
      "\n",
      "Cargando y verificando Número de turistas según organización del viaje...\n",
      "\n",
      "Cargando y verificando Número de turistas según duración del viaje...\n"
     ]
    }
   ],
   "source": [
    "ruta_carpeta = \"/Users/patriciagonzalez/Documents/MI PROYECTO/Repositorio/Proyecto-Turismo-La-Rioja-En-proceso-/larioja.org/Turismo/Encuestas turísticas\"\n",
    "\n",
    "archivos_csv = {\n",
    "    \"Gasto de los turistas internacionales según via de acceso principal\": \"/Users/patriciagonzalez/Documents/MI PROYECTO/Repositorio/Proyecto-Turismo-La-Rioja-En-proceso-/larioja.org/Turismo/Encuestas turísticas/Encuesta de Gasto Turístico en La Rioja/1-Gasto de los turistas internacionales según via de acceso principal.csv\",\n",
    "    \"Gasto de los turistas internacionales según alojamiento principal\": \"/Users/patriciagonzalez/Documents/MI PROYECTO/Repositorio/Proyecto-Turismo-La-Rioja-En-proceso-/larioja.org/Turismo/Encuestas turísticas/Encuesta de Gasto Turístico en La Rioja/2-Gasto de los turistas internacionales según alojamiento principal.csv\",\n",
    "    \"Gasto de los turistas internacionales según motivo principal del viaje\": \"/Users/patriciagonzalez/Documents/MI PROYECTO/Repositorio/Proyecto-Turismo-La-Rioja-En-proceso-/larioja.org/Turismo/Encuestas turísticas/Encuesta de Gasto Turístico en La Rioja/3-Gasto de los turistas internacionales según motivo principal del viaje.csv\",\n",
    "    \"Gasto de los turistas internacionales según país de residencia\": \"/Users/patriciagonzalez/Documents/MI PROYECTO/Repositorio/Proyecto-Turismo-La-Rioja-En-proceso-/larioja.org/Turismo/Encuestas turísticas/Encuesta de Gasto Turístico en La Rioja/4-Gasto de los turistas internacionales según país de residencia.csv\",\n",
    "    \"Gasto de los turistas internacionales según forma organización del viaje\": \"/Users/patriciagonzalez/Documents/MI PROYECTO/Repositorio/Proyecto-Turismo-La-Rioja-En-proceso-/larioja.org/Turismo/Encuestas turísticas/Encuesta de Gasto Turístico en La Rioja/5-Gasto de los turistas internacionales según forma organización del viaje.csv\",\n",
    "    \"Gasto de los turistas internacionales según duración del viaje\": \"/Users/patriciagonzalez/Documents/MI PROYECTO/Repositorio/Proyecto-Turismo-La-Rioja-En-proceso-/larioja.org/Turismo/Encuestas turísticas/Encuesta de Gasto Turístico en La Rioja/6-Gasto de los turistas internacionales según duración del viaje.csv\",\n",
    "    \"Gasto de los turistas internacionales según partidas de gasto\": \"/Users/patriciagonzalez/Documents/MI PROYECTO/Repositorio/Proyecto-Turismo-La-Rioja-En-proceso-/larioja.org/Turismo/Encuestas turísticas/Encuesta de Gasto Turístico en La Rioja/7-Gasto de los turistas internacionales según partidas de gasto.csv\",\n",
    "    \"Número de turistas según via de acceso principal\": \"/Users/patriciagonzalez/Documents/MI PROYECTO/Repositorio/Proyecto-Turismo-La-Rioja-En-proceso-/larioja.org/Turismo/Encuestas turísticas/Estadística de Movimientos Turísticos en Fronteras para La Rioja/1-Número de turistas según via de acceso principal.csv\",\n",
    "    \"Número de turistas según alojamiento principal\": \"/Users/patriciagonzalez/Documents/MI PROYECTO/Repositorio/Proyecto-Turismo-La-Rioja-En-proceso-/larioja.org/Turismo/Encuestas turísticas/Estadística de Movimientos Turísticos en Fronteras para La Rioja/2-Número de turistas según alojamiento principal.csv\",\n",
    "    \"Número de turistas según motivo principal del viaje\": \"/Users/patriciagonzalez/Documents/MI PROYECTO/Repositorio/Proyecto-Turismo-La-Rioja-En-proceso-/larioja.org/Turismo/Encuestas turísticas/Estadística de Movimientos Turísticos en Fronteras para La Rioja/3-Número de turistas según motivo principal del viaje.csv\",\n",
    "    \"Número de turistas según país de residencia\": \"/Users/patriciagonzalez/Documents/MI PROYECTO/Repositorio/Proyecto-Turismo-La-Rioja-En-proceso-/larioja.org/Turismo/Encuestas turísticas/Estadística de Movimientos Turísticos en Fronteras para La Rioja/4-Número de turistas según país de residencia.csv\",\n",
    "    \"Número de turistas según organización del viaje\": \"/Users/patriciagonzalez/Documents/MI PROYECTO/Repositorio/Proyecto-Turismo-La-Rioja-En-proceso-/larioja.org/Turismo/Encuestas turísticas/Estadística de Movimientos Turísticos en Fronteras para La Rioja/5-Número de turistas según organización del viaje.csv\",\n",
    "    \"Número de turistas según duración del viaje\": \"/Users/patriciagonzalez/Documents/MI PROYECTO/Repositorio/Proyecto-Turismo-La-Rioja-En-proceso-/larioja.org/Turismo/Encuestas turísticas/Estadística de Movimientos Turísticos en Fronteras para La Rioja/6-Número de turistas según duración del viaje.csv\",\n",
    "}\n",
    "dataframes = {}\n",
    "for nombre_df, ruta in archivos_csv.items():\n",
    "    df = pd.read_csv(os.path.join(ruta_carpeta, ruta), sep=',')\n",
    "    print(f\"\\nCargando y verificando {nombre_df}...\")\n",
    "    # Eliminar filas con valores nulos\n",
    "    df = df.dropna()\n",
    "    dataframes[nombre_df] = df"
   ]
  },
  {
   "cell_type": "code",
   "execution_count": 36,
   "metadata": {},
   "outputs": [],
   "source": [
    "dataframes[\"Gasto de los turistas internacionales según via de acceso principal\"].to_csv('prueba1.csv', index=False)"
   ]
  }
 ],
 "metadata": {
  "kernelspec": {
   "display_name": "base",
   "language": "python",
   "name": "python3"
  },
  "language_info": {
   "codemirror_mode": {
    "name": "ipython",
    "version": 3
   },
   "file_extension": ".py",
   "mimetype": "text/x-python",
   "name": "python",
   "nbconvert_exporter": "python",
   "pygments_lexer": "ipython3",
   "version": "3.11.8"
  }
 },
 "nbformat": 4,
 "nbformat_minor": 2
}
