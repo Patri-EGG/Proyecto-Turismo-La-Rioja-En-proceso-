{
 "cells": [
  {
   "cell_type": "code",
   "execution_count": 1,
   "metadata": {},
   "outputs": [],
   "source": [
    "import pandas as pd\n",
    "import os"
   ]
  },
  {
   "cell_type": "code",
   "execution_count": 2,
   "metadata": {},
   "outputs": [],
   "source": [
    "# Definir las rutas a los archivos\n",
    "ruta_viajeros = \"larioja.org/Turismo/Ocupación turística/Ocupación en establecimientos turísticos de La Rioja/Principales resultados de ocupación hotelera y extrahotelera/1-Viajeros y pernoctaciones en alojamientos turísticos según tipo de establecimiento y procedencia del viajero.csv\"\n",
    "ruta_estancia_media = \"larioja.org/Turismo/Ocupación turística/Ocupación en establecimientos turísticos de La Rioja/Principales resultados de ocupación hotelera y extrahotelera/2-Estancia media según tipo de alojamiento-20608002.csv\"\n",
    "\n",
    "# Cargar los datos en dataframes\n",
    "df_viajeros = pd.read_csv(ruta_viajeros, delimiter=';', decimal=',')\n",
    "df_estancia_media = pd.read_csv(ruta_estancia_media, delimiter=';', decimal=',')\n"
   ]
  },
  {
   "cell_type": "code",
   "execution_count": 3,
   "metadata": {},
   "outputs": [
    {
     "name": "stdout",
     "output_type": "stream",
     "text": [
      "Primeras filas de df_viajeros:\n",
      "  Periodo,Tipo de establecimiento,Indicador,CCAA,Residencia,DATA\n",
      "0        1999M01,TOTAL,Viajeros,La Rioja,TOTAL,16668            \n",
      "1  1999M01,TOTAL,Viajeros,La Rioja,Residentes en ...            \n",
      "2  1999M01,TOTAL,Viajeros,La Rioja,No residentes ...            \n",
      "3        1999M01,TOTAL,Viajeros,Espańa,TOTAL,2834243            \n",
      "4  1999M01,TOTAL,Viajeros,Espańa,Residentes en Es...            \n",
      "\n",
      "Primeras filas de df_estancia_media:\n",
      "  Periodo,Tipo de establecimiento,CCAA,DATA\n",
      "0              1999M01,Hoteles,La Rioja,1.7\n",
      "1                1999M01,Hoteles,Espańa,3.8\n",
      "2             1999M01,Camping,La Rioja,1.86\n",
      "3               1999M01,Camping,Espańa,7.51\n",
      "4           1999M01,Turismo Rural,La Rioja,\n"
     ]
    }
   ],
   "source": [
    "print(\"Primeras filas de df_viajeros:\")\n",
    "print(df_viajeros.head())\n",
    "\n",
    "print(\"\\nPrimeras filas de df_estancia_media:\")\n",
    "print(df_estancia_media.head())\n"
   ]
  },
  {
   "cell_type": "code",
   "execution_count": 4,
   "metadata": {},
   "outputs": [
    {
     "name": "stdout",
     "output_type": "stream",
     "text": [
      "Primeras filas de df_viajeros después de separar columnas:\n",
      "   Periodo Tipo de establecimiento Indicador      CCAA  \\\n",
      "0  1999M01                   TOTAL  Viajeros  La Rioja   \n",
      "1  1999M01                   TOTAL  Viajeros  La Rioja   \n",
      "2  1999M01                   TOTAL  Viajeros  La Rioja   \n",
      "3  1999M01                   TOTAL  Viajeros    Espańa   \n",
      "4  1999M01                   TOTAL  Viajeros    Espańa   \n",
      "\n",
      "                Residencia     DATA  \n",
      "0                    TOTAL    16668  \n",
      "1     Residentes en Espańa    15676  \n",
      "2  No residentes en Espańa      992  \n",
      "3                    TOTAL  2834243  \n",
      "4     Residentes en Espańa  1738167  \n"
     ]
    }
   ],
   "source": [
    "# Separar las columnas correctamente\n",
    "df_viajeros[['Periodo', 'Tipo de establecimiento', 'Indicador', 'CCAA', 'Residencia', 'DATA']] = df_viajeros['Periodo,Tipo de establecimiento,Indicador,CCAA,Residencia,DATA'].str.split(',', expand=True)\n",
    "\n",
    "# Eliminar la columna original con datos combinados\n",
    "df_viajeros.drop(columns=['Periodo,Tipo de establecimiento,Indicador,CCAA,Residencia,DATA'], inplace=True)\n",
    "\n",
    "# Verificar las primeras filas para confirmar la separación correcta\n",
    "print(\"Primeras filas de df_viajeros después de separar columnas:\")\n",
    "print(df_viajeros.head())\n"
   ]
  },
  {
   "cell_type": "code",
   "execution_count": 5,
   "metadata": {},
   "outputs": [
    {
     "name": "stdout",
     "output_type": "stream",
     "text": [
      "Primeras filas de df_estancia_media después de separar columnas:\n",
      "   Periodo Tipo de establecimiento      CCAA  DATA\n",
      "0  1999M01                 Hoteles  La Rioja   1.7\n",
      "1  1999M01                 Hoteles    Espańa   3.8\n",
      "2  1999M01                 Camping  La Rioja  1.86\n",
      "3  1999M01                 Camping    Espańa  7.51\n",
      "4  1999M01           Turismo Rural  La Rioja      \n"
     ]
    }
   ],
   "source": [
    "# Separar las columnas correctamente\n",
    "df_estancia_media[['Periodo', 'Tipo de establecimiento', 'CCAA', 'DATA']] = df_estancia_media['Periodo,Tipo de establecimiento,CCAA,DATA'].str.split(',', expand=True)\n",
    "\n",
    "# Eliminar la columna original con datos combinados\n",
    "df_estancia_media.drop(columns=['Periodo,Tipo de establecimiento,CCAA,DATA'], inplace=True)\n",
    "\n",
    "# Verificar las primeras filas para confirmar la separación correcta\n",
    "print(\"Primeras filas de df_estancia_media después de separar columnas:\")\n",
    "print(df_estancia_media.head())\n"
   ]
  },
  {
   "cell_type": "code",
   "execution_count": 6,
   "metadata": {},
   "outputs": [
    {
     "name": "stdout",
     "output_type": "stream",
     "text": [
      "Primeras filas de df_viajeros después de convertir DATA a numérico:\n",
      "   Periodo Tipo de establecimiento Indicador      CCAA  \\\n",
      "0  1999M01                   TOTAL  Viajeros  La Rioja   \n",
      "1  1999M01                   TOTAL  Viajeros  La Rioja   \n",
      "2  1999M01                   TOTAL  Viajeros  La Rioja   \n",
      "3  1999M01                   TOTAL  Viajeros    Espańa   \n",
      "4  1999M01                   TOTAL  Viajeros    Espańa   \n",
      "\n",
      "                Residencia       DATA  \n",
      "0                    TOTAL    16668.0  \n",
      "1     Residentes en Espańa    15676.0  \n",
      "2  No residentes en Espańa      992.0  \n",
      "3                    TOTAL  2834243.0  \n",
      "4     Residentes en Espańa  1738167.0  \n",
      "Valores nulos por columna en df_viajeros después de limpiar:\n",
      "Periodo                    0\n",
      "Tipo de establecimiento    0\n",
      "Indicador                  0\n",
      "CCAA                       0\n",
      "Residencia                 0\n",
      "DATA                       0\n",
      "dtype: int64\n"
     ]
    }
   ],
   "source": [
    "# Convertir la columna DATA a numérico, reemplazando las comas por puntos y forzando la conversión\n",
    "df_viajeros['DATA'] = pd.to_numeric(df_viajeros['DATA'].str.replace('.', '').str.replace(',', '.'), errors='coerce')\n",
    "\n",
    "# Verificar las primeras filas para confirmar la conversión correcta\n",
    "print(\"Primeras filas de df_viajeros después de convertir DATA a numérico:\")\n",
    "print(df_viajeros.head())\n",
    "\n",
    "# Manejar valores nulos\n",
    "df_viajeros.dropna(inplace=True)\n",
    "\n",
    "# Verificar si aún hay valores nulos\n",
    "print(\"Valores nulos por columna en df_viajeros después de limpiar:\")\n",
    "print(df_viajeros.isnull().sum())\n"
   ]
  },
  {
   "cell_type": "code",
   "execution_count": 7,
   "metadata": {},
   "outputs": [
    {
     "name": "stdout",
     "output_type": "stream",
     "text": [
      "Primeras filas de df_estancia_media después de convertir DATA a numérico:\n",
      "   Periodo Tipo de establecimiento      CCAA   DATA\n",
      "0  1999M01                 Hoteles  La Rioja   17.0\n",
      "1  1999M01                 Hoteles    Espańa   38.0\n",
      "2  1999M01                 Camping  La Rioja  186.0\n",
      "3  1999M01                 Camping    Espańa  751.0\n",
      "4  1999M01           Turismo Rural  La Rioja    NaN\n",
      "Valores nulos por columna en df_estancia_media después de limpiar:\n",
      "Periodo                    0\n",
      "Tipo de establecimiento    0\n",
      "CCAA                       0\n",
      "DATA                       0\n",
      "dtype: int64\n"
     ]
    }
   ],
   "source": [
    "# Convertir la columna DATA a numérico, reemplazando las comas por puntos y forzando la conversión\n",
    "df_estancia_media['DATA'] = pd.to_numeric(df_estancia_media['DATA'].str.replace('.', '').str.replace(',', '.'), errors='coerce')\n",
    "\n",
    "# Verificar las primeras filas para confirmar la conversión correcta\n",
    "print(\"Primeras filas de df_estancia_media después de convertir DATA a numérico:\")\n",
    "print(df_estancia_media.head())\n",
    "\n",
    "# Manejar valores nulos\n",
    "df_estancia_media.dropna(inplace=True)\n",
    "\n",
    "# Verificar si aún hay valores nulos\n",
    "print(\"Valores nulos por columna en df_estancia_media después de limpiar:\")\n",
    "print(df_estancia_media.isnull().sum())\n"
   ]
  },
  {
   "cell_type": "code",
   "execution_count": 8,
   "metadata": {},
   "outputs": [
    {
     "name": "stdout",
     "output_type": "stream",
     "text": [
      "Archivos CSV exportados correctamente.\n"
     ]
    }
   ],
   "source": [
    "# Exportar DataFrames limpios a archivos CSV\n",
    "df_viajeros.to_csv('viajeros_limpio.csv', index=False)\n",
    "df_estancia_media.to_csv('estancia_media_limpio.csv', index=False)\n",
    "\n",
    "print(\"Archivos CSV exportados correctamente.\")\n"
   ]
  }
 ],
 "metadata": {
  "kernelspec": {
   "display_name": "base",
   "language": "python",
   "name": "python3"
  },
  "language_info": {
   "codemirror_mode": {
    "name": "ipython",
    "version": 3
   },
   "file_extension": ".py",
   "mimetype": "text/x-python",
   "name": "python",
   "nbconvert_exporter": "python",
   "pygments_lexer": "ipython3",
   "version": "3.11.8"
  }
 },
 "nbformat": 4,
 "nbformat_minor": 2
}
