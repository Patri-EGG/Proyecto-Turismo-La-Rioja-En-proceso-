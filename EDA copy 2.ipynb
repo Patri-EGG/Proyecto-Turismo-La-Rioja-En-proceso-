{
 "cells": [
  {
   "cell_type": "code",
   "execution_count": 2,
   "metadata": {},
   "outputs": [],
   "source": [
    "import pandas as pd"
   ]
  },
  {
   "cell_type": "code",
   "execution_count": null,
   "metadata": {},
   "outputs": [],
   "source": [
    "num_turistas_segun_acceso= pd.read_csv('larioja.org/Turismo/Encuestas turísticas/Estadística de Movimientos Turísticos en Fronteras para La Rioja/1-Número de turistas según via de acceso principal.csv')\n",
    "num_turistas_segun_alojamiento_principal= pd.read_csv('larioja.org/Turismo/Encuestas turísticas/Estadística de Movimientos Turísticos en Fronteras para La Rioja/2-Número de turistas según alojamiento principal.csv')\n",
    "num_turistas_motivo= pd.read_csv('larioja.org/Turismo/Encuestas turísticas/Estadística de Movimientos Turísticos en Fronteras para La Rioja/3-Número de turistas según motivo principal del viaje.csv')\n",
    "num_turistas_segun_pais= pd.read_csv('larioja.org/Turismo/Encuestas turísticas/Estadística de Movimientos Turísticos en Fronteras para La Rioja/4-Número de turistas según país de residencia.csv')\n",
    "num_turistas_segun_organizacion= pd.read_csv('larioja.org/Turismo/Encuestas turísticas/Estadística de Movimientos Turísticos en Fronteras para La Rioja/5-Número de turistas según organización del viaje.csv')\n",
    "num_turistas_segun_duracion= pd.read_csv('larioja.org/Turismo/Encuestas turísticas/Estadística de Movimientos Turísticos en Fronteras para La Rioja/6-Número de turistas según duración del viaje.csv')\n",
    "print(f'{num_turistas_segun_acceso.info()},------------------------------->>>')\n",
    "print(f'{num_turistas_segun_alojamiento_principal.info()},------------------------------->>>')\n",
    "print(f'{num_turistas_motivo.info()},------------------------------->>>')\n",
    "print(f'{num_turistas_segun_pais.info()},------------------------------->>>')\n",
    "print(f'{num_turistas_segun_organizacion.info()},------------------------------->>>')\n",
    "print(f'{num_turistas_segun_duracion.info()},------------------------------->>>')\n"
   ]
  },
  {
   "cell_type": "code",
   "execution_count": 16,
   "metadata": {},
   "outputs": [
    {
     "name": "stdout",
     "output_type": "stream",
     "text": [
      "  Subcategoria  Periodo  Numero de Turistas      Categoria\n",
      "0        TOTAL     2016            150778.8  Via de acceso\n",
      "1        TOTAL     2017            124188.8  Via de acceso\n",
      "2        TOTAL     2018            142926.4  Via de acceso\n",
      "3        TOTAL     2019            139497.3  Via de acceso\n",
      "4        TOTAL     2020             45355.2  Via de acceso\n",
      "<class 'pandas.core.frame.DataFrame'>\n",
      "RangeIndex: 168 entries, 0 to 167\n",
      "Data columns (total 4 columns):\n",
      " #   Column              Non-Null Count  Dtype  \n",
      "---  ------              --------------  -----  \n",
      " 0   Subcategoria        168 non-null    object \n",
      " 1   Periodo             168 non-null    int64  \n",
      " 2   Numero de Turistas  168 non-null    float64\n",
      " 3   Categoria           168 non-null    object \n",
      "dtypes: float64(1), int64(1), object(2)\n",
      "memory usage: 5.4+ KB\n",
      "None\n"
     ]
    }
   ],
   "source": [
    "# Añadir columna que identifica la categoría en cada dataframe\n",
    "num_turistas_segun_acceso['Categoria'] = 'Via de acceso'\n",
    "num_turistas_segun_alojamiento_principal['Categoria'] = 'Tipo de alojamiento'\n",
    "num_turistas_motivo['Categoria'] = 'Motivo del viaje'\n",
    "num_turistas_segun_pais['Categoria'] = 'País de residencia'\n",
    "num_turistas_segun_organizacion['Categoria'] = 'Forma de organización'\n",
    "num_turistas_segun_duracion['Categoria'] = 'Duración del viaje'\n",
    "\n",
    "# Renombrar las columnas \"DATA\" y otras columnas para que sean consistentes en todos los dataframes\n",
    "num_turistas_segun_acceso.rename(columns={'DATA': 'Numero de Turistas', 'Via de acceso': 'Subcategoria'}, inplace=True)\n",
    "num_turistas_segun_alojamiento_principal.rename(columns={'DATA': 'Numero de Turistas', 'Tipo de alojamiento': 'Subcategoria'}, inplace=True)\n",
    "num_turistas_motivo.rename(columns={'DATA': 'Numero de Turistas', 'Motivo del viaje': 'Subcategoria'}, inplace=True)\n",
    "num_turistas_segun_pais.rename(columns={'DATA': 'Numero de Turistas', 'País de residencia': 'Subcategoria'}, inplace=True)\n",
    "num_turistas_segun_organizacion.rename(columns={'DATA': 'Numero de Turistas', 'Forma de organización del viaje': 'Subcategoria'}, inplace=True)\n",
    "num_turistas_segun_duracion.rename(columns={'DATA': 'Numero de Turistas', 'Duración del viaje': 'Subcategoria'}, inplace=True)\n",
    "\n",
    "# Concatenar todos los dataframes\n",
    "df_combinado = pd.concat([num_turistas_segun_acceso, \n",
    "                          num_turistas_segun_alojamiento_principal, \n",
    "                          num_turistas_motivo, \n",
    "                          num_turistas_segun_pais, \n",
    "                          num_turistas_segun_organizacion, \n",
    "                          num_turistas_segun_duracion], \n",
    "                         axis=0, ignore_index=True)\n",
    "\n",
    "# Verificar el DataFrame combinado\n",
    "print(df_combinado.head())\n",
    "print(df_combinado.info())\n"
   ]
  },
  {
   "cell_type": "code",
   "execution_count": 19,
   "metadata": {},
   "outputs": [
    {
     "name": "stdout",
     "output_type": "stream",
     "text": [
      "  Subcategoria  Periodo  Numero de Turistas      Categoria      Fecha\n",
      "0        TOTAL     2016            150778.8  Via de acceso 2016-01-01\n",
      "1        TOTAL     2017            124188.8  Via de acceso 2017-01-01\n",
      "2        TOTAL     2018            142926.4  Via de acceso 2018-01-01\n",
      "3        TOTAL     2019            139497.3  Via de acceso 2019-01-01\n",
      "4        TOTAL     2020             45355.2  Via de acceso 2020-01-01\n",
      "<class 'pandas.core.frame.DataFrame'>\n",
      "RangeIndex: 168 entries, 0 to 167\n",
      "Data columns (total 5 columns):\n",
      " #   Column              Non-Null Count  Dtype         \n",
      "---  ------              --------------  -----         \n",
      " 0   Subcategoria        168 non-null    object        \n",
      " 1   Periodo             168 non-null    int64         \n",
      " 2   Numero de Turistas  168 non-null    float64       \n",
      " 3   Categoria           168 non-null    object        \n",
      " 4   Fecha               168 non-null    datetime64[ns]\n",
      "dtypes: datetime64[ns](1), float64(1), int64(1), object(2)\n",
      "memory usage: 6.7+ KB\n",
      "None\n"
     ]
    }
   ],
   "source": [
    "df_combinado['Fecha'] = pd.to_datetime(df_combinado['Periodo'].astype(str), format='%Y')\n",
    "\n",
    "# Ahora 'Fecha' tendrá el tipo datetime con solo el año\n",
    "print(df_combinado.head())\n",
    "print(df_combinado.info())"
   ]
  }
 ],
 "metadata": {
  "kernelspec": {
   "display_name": "base",
   "language": "python",
   "name": "python3"
  },
  "language_info": {
   "codemirror_mode": {
    "name": "ipython",
    "version": 3
   },
   "file_extension": ".py",
   "mimetype": "text/x-python",
   "name": "python",
   "nbconvert_exporter": "python",
   "pygments_lexer": "ipython3",
   "version": "3.11.8"
  }
 },
 "nbformat": 4,
 "nbformat_minor": 2
}
