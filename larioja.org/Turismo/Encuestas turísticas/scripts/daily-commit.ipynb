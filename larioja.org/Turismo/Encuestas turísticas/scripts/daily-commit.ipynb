{
 "cells": [
  {
   "cell_type": "code",
   "execution_count": null,
   "metadata": {},
   "outputs": [],
   "source": [
    "from datetime import datetime\n",
    "\n",
    "# Ruta del archivo\n",
    "file_path = 'daily-commit.txt'\n",
    "\n",
    "# Escribir la fecha y hora actuales en el archivo\n",
    "with open(file_path, 'a') as f:\n",
    "    f.write(f'{datetime.now()}\\n')\n"
   ]
  }
 ],
 "metadata": {
  "kernelspec": {
   "display_name": "base",
   "language": "python",
   "name": "python3"
  },
  "language_info": {
   "codemirror_mode": {
    "name": "ipython",
    "version": 3
   },
   "file_extension": ".py",
   "mimetype": "text/x-python",
   "name": "python",
   "nbconvert_exporter": "python",
   "pygments_lexer": "ipython3",
   "version": "3.11.8"
  }
 },
 "nbformat": 4,
 "nbformat_minor": 2
}
