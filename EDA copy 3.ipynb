{
 "cells": [
  {
   "cell_type": "code",
   "execution_count": 24,
   "metadata": {},
   "outputs": [],
   "source": [
    "import pandas as pd"
   ]
  },
  {
   "cell_type": "code",
   "execution_count": 25,
   "metadata": {},
   "outputs": [
    {
     "name": "stdout",
     "output_type": "stream",
     "text": [
      "<class 'pandas.core.frame.DataFrame'>\n",
      "RangeIndex: 24 entries, 0 to 23\n",
      "Data columns (total 3 columns):\n",
      " #   Column         Non-Null Count  Dtype  \n",
      "---  ------         --------------  -----  \n",
      " 0   Via de acceso  24 non-null     object \n",
      " 1   Periodo        24 non-null     int64  \n",
      " 2   DATA           24 non-null     float64\n",
      "dtypes: float64(1), int64(1), object(1)\n",
      "memory usage: 708.0+ bytes\n",
      "None,------------------------------->>>\n",
      "<class 'pandas.core.frame.DataFrame'>\n",
      "RangeIndex: 24 entries, 0 to 23\n",
      "Data columns (total 3 columns):\n",
      " #   Column               Non-Null Count  Dtype  \n",
      "---  ------               --------------  -----  \n",
      " 0   Tipo de alojamiento  24 non-null     object \n",
      " 1   Periodo              24 non-null     int64  \n",
      " 2   DATA                 24 non-null     float64\n",
      "dtypes: float64(1), int64(1), object(1)\n",
      "memory usage: 708.0+ bytes\n",
      "None,------------------------------->>>\n",
      "<class 'pandas.core.frame.DataFrame'>\n",
      "RangeIndex: 32 entries, 0 to 31\n",
      "Data columns (total 3 columns):\n",
      " #   Column            Non-Null Count  Dtype  \n",
      "---  ------            --------------  -----  \n",
      " 0   Motivo del viaje  32 non-null     object \n",
      " 1   Periodo           32 non-null     int64  \n",
      " 2   DATA              32 non-null     float64\n",
      "dtypes: float64(1), int64(1), object(1)\n",
      "memory usage: 900.0+ bytes\n",
      "None,------------------------------->>>\n",
      "<class 'pandas.core.frame.DataFrame'>\n",
      "RangeIndex: 40 entries, 0 to 39\n",
      "Data columns (total 3 columns):\n",
      " #   Column              Non-Null Count  Dtype  \n",
      "---  ------              --------------  -----  \n",
      " 0   País de residencia  40 non-null     object \n",
      " 1   Periodo             40 non-null     int64  \n",
      " 2   DATA                40 non-null     float64\n",
      "dtypes: float64(1), int64(1), object(1)\n",
      "memory usage: 1.1+ KB\n",
      "None,------------------------------->>>\n",
      "<class 'pandas.core.frame.DataFrame'>\n",
      "RangeIndex: 24 entries, 0 to 23\n",
      "Data columns (total 3 columns):\n",
      " #   Column                           Non-Null Count  Dtype  \n",
      "---  ------                           --------------  -----  \n",
      " 0   Forma de organización del viaje  24 non-null     object \n",
      " 1   Periodo                          24 non-null     int64  \n",
      " 2   DATA                             24 non-null     float64\n",
      "dtypes: float64(1), int64(1), object(1)\n",
      "memory usage: 708.0+ bytes\n",
      "None,------------------------------->>>\n",
      "<class 'pandas.core.frame.DataFrame'>\n",
      "RangeIndex: 24 entries, 0 to 23\n",
      "Data columns (total 3 columns):\n",
      " #   Column              Non-Null Count  Dtype  \n",
      "---  ------              --------------  -----  \n",
      " 0   Duración del viaje  24 non-null     object \n",
      " 1   Periodo             24 non-null     int64  \n",
      " 2   DATA                24 non-null     float64\n",
      "dtypes: float64(1), int64(1), object(1)\n",
      "memory usage: 708.0+ bytes\n",
      "None,------------------------------->>>\n"
     ]
    }
   ],
   "source": [
    "num_turistas_segun_acceso= pd.read_csv('larioja.org/Turismo/Encuestas turísticas/Estadística de Movimientos Turísticos en Fronteras para La Rioja/1-Número de turistas según via de acceso principal.csv')\n",
    "num_turistas_segun_alojamiento_principal= pd.read_csv('larioja.org/Turismo/Encuestas turísticas/Estadística de Movimientos Turísticos en Fronteras para La Rioja/2-Número de turistas según alojamiento principal.csv')\n",
    "num_turistas_motivo= pd.read_csv('larioja.org/Turismo/Encuestas turísticas/Estadística de Movimientos Turísticos en Fronteras para La Rioja/3-Número de turistas según motivo principal del viaje.csv')\n",
    "num_turistas_segun_pais= pd.read_csv('larioja.org/Turismo/Encuestas turísticas/Estadística de Movimientos Turísticos en Fronteras para La Rioja/4-Número de turistas según país de residencia.csv')\n",
    "num_turistas_segun_organizacion= pd.read_csv('larioja.org/Turismo/Encuestas turísticas/Estadística de Movimientos Turísticos en Fronteras para La Rioja/5-Número de turistas según organización del viaje.csv')\n",
    "num_turistas_segun_duracion= pd.read_csv('larioja.org/Turismo/Encuestas turísticas/Estadística de Movimientos Turísticos en Fronteras para La Rioja/6-Número de turistas según duración del viaje.csv')\n",
    "print(f'{num_turistas_segun_acceso.info()},------------------------------->>>')\n",
    "print(f'{num_turistas_segun_alojamiento_principal.info()},------------------------------->>>')\n",
    "print(f'{num_turistas_motivo.info()},------------------------------->>>')\n",
    "print(f'{num_turistas_segun_pais.info()},------------------------------->>>')\n",
    "print(f'{num_turistas_segun_organizacion.info()},------------------------------->>>')\n",
    "print(f'{num_turistas_segun_duracion.info()},----------------------------->>>')\n"
   ]
  },
  {
   "cell_type": "code",
   "execution_count": 26,
   "metadata": {},
   "outputs": [
    {
     "name": "stdout",
     "output_type": "stream",
     "text": [
      "  Subcategoria  Periodo  Numero de Turistas      Categoria\n",
      "0        TOTAL     2016            150778.8  Via de acceso\n",
      "1        TOTAL     2017            124188.8  Via de acceso\n",
      "2        TOTAL     2018            142926.4  Via de acceso\n",
      "3        TOTAL     2019            139497.3  Via de acceso\n",
      "4        TOTAL     2020             45355.2  Via de acceso\n",
      "<class 'pandas.core.frame.DataFrame'>\n",
      "RangeIndex: 168 entries, 0 to 167\n",
      "Data columns (total 4 columns):\n",
      " #   Column              Non-Null Count  Dtype  \n",
      "---  ------              --------------  -----  \n",
      " 0   Subcategoria        168 non-null    object \n",
      " 1   Periodo             168 non-null    int64  \n",
      " 2   Numero de Turistas  168 non-null    float64\n",
      " 3   Categoria           168 non-null    object \n",
      "dtypes: float64(1), int64(1), object(2)\n",
      "memory usage: 5.4+ KB\n",
      "None\n"
     ]
    }
   ],
   "source": [
    "# Añadir columna que identifica la categoría en cada dataframe\n",
    "num_turistas_segun_acceso['Categoria'] = 'Via de acceso'\n",
    "num_turistas_segun_alojamiento_principal['Categoria'] = 'Tipo de alojamiento'\n",
    "num_turistas_motivo['Categoria'] = 'Motivo del viaje'\n",
    "num_turistas_segun_pais['Categoria'] = 'País de residencia'\n",
    "num_turistas_segun_organizacion['Categoria'] = 'Forma de organización'\n",
    "num_turistas_segun_duracion['Categoria'] = 'Duración del viaje'\n",
    "\n",
    "# Renombrar las columnas \"DATA\" y otras columnas para que sean consistentes en todos los dataframes\n",
    "num_turistas_segun_acceso.rename(columns={'DATA': 'Numero de Turistas', 'Via de acceso': 'Subcategoria'}, inplace=True)\n",
    "num_turistas_segun_alojamiento_principal.rename(columns={'DATA': 'Numero de Turistas', 'Tipo de alojamiento': 'Subcategoria'}, inplace=True)\n",
    "num_turistas_motivo.rename(columns={'DATA': 'Numero de Turistas', 'Motivo del viaje': 'Subcategoria'}, inplace=True)\n",
    "num_turistas_segun_pais.rename(columns={'DATA': 'Numero de Turistas', 'País de residencia': 'Subcategoria'}, inplace=True)\n",
    "num_turistas_segun_organizacion.rename(columns={'DATA': 'Numero de Turistas', 'Forma de organización del viaje': 'Subcategoria'}, inplace=True)\n",
    "num_turistas_segun_duracion.rename(columns={'DATA': 'Numero de Turistas', 'Duración del viaje': 'Subcategoria'}, inplace=True)\n",
    "\n",
    "# Concatenar todos los dataframes\n",
    "df_combinado = pd.concat([num_turistas_segun_acceso, \n",
    "                          num_turistas_segun_alojamiento_principal, \n",
    "                          num_turistas_motivo, \n",
    "                          num_turistas_segun_pais, \n",
    "                          num_turistas_segun_organizacion, \n",
    "                          num_turistas_segun_duracion], \n",
    "                         axis=0, ignore_index=True)\n",
    "\n",
    "# Verificar el DataFrame combinado\n",
    "print(df_combinado.head())\n",
    "print(df_combinado.info())\n"
   ]
  },
  {
   "cell_type": "code",
   "execution_count": 27,
   "metadata": {},
   "outputs": [
    {
     "name": "stdout",
     "output_type": "stream",
     "text": [
      "  Subcategoria  Periodo  Numero de Turistas      Categoria      Fecha\n",
      "0        TOTAL     2016            150778.8  Via de acceso 2016-01-01\n",
      "1        TOTAL     2017            124188.8  Via de acceso 2017-01-01\n",
      "2        TOTAL     2018            142926.4  Via de acceso 2018-01-01\n",
      "3        TOTAL     2019            139497.3  Via de acceso 2019-01-01\n",
      "4        TOTAL     2020             45355.2  Via de acceso 2020-01-01\n",
      "<class 'pandas.core.frame.DataFrame'>\n",
      "RangeIndex: 168 entries, 0 to 167\n",
      "Data columns (total 5 columns):\n",
      " #   Column              Non-Null Count  Dtype         \n",
      "---  ------              --------------  -----         \n",
      " 0   Subcategoria        168 non-null    object        \n",
      " 1   Periodo             168 non-null    int64         \n",
      " 2   Numero de Turistas  168 non-null    float64       \n",
      " 3   Categoria           168 non-null    object        \n",
      " 4   Fecha               168 non-null    datetime64[ns]\n",
      "dtypes: datetime64[ns](1), float64(1), int64(1), object(2)\n",
      "memory usage: 6.7+ KB\n",
      "None\n"
     ]
    }
   ],
   "source": [
    "df_combinado['Fecha'] = pd.to_datetime(df_combinado['Periodo'].astype(str), format='%Y')\n",
    "\n",
    "# Ahora 'Fecha' tendrá el tipo datetime con solo el año\n",
    "print(df_combinado.head())\n",
    "print(df_combinado.info())"
   ]
  },
  {
   "cell_type": "code",
   "execution_count": 28,
   "metadata": {},
   "outputs": [],
   "source": [
    "# Exportar el DataFrame combinado\n",
    "# df_combinado.to_csv('df_combinado.csv', index=False)"
   ]
  },
  {
   "cell_type": "code",
   "execution_count": 29,
   "metadata": {},
   "outputs": [
    {
     "name": "stdout",
     "output_type": "stream",
     "text": [
      "  Subcategoria    Indicador  Periodo  Gastos/Estancia      Categoria  \\\n",
      "0        TOTAL  Gasto total     2016         93087.88  Via de acceso   \n",
      "1        TOTAL  Gasto total     2017        101962.17  Via de acceso   \n",
      "2        TOTAL  Gasto total     2018        101126.50  Via de acceso   \n",
      "3        TOTAL  Gasto total     2019         98201.73  Via de acceso   \n",
      "4        TOTAL  Gasto total     2020         21835.28  Via de acceso   \n",
      "\n",
      "  Tipo de gasto      Fecha  \n",
      "0           NaN 2016-01-01  \n",
      "1           NaN 2017-01-01  \n",
      "2           NaN 2018-01-01  \n",
      "3           NaN 2019-01-01  \n",
      "4           NaN 2020-01-01  \n",
      "<class 'pandas.core.frame.DataFrame'>\n",
      "RangeIndex: 712 entries, 0 to 711\n",
      "Data columns (total 7 columns):\n",
      " #   Column           Non-Null Count  Dtype         \n",
      "---  ------           --------------  -----         \n",
      " 0   Subcategoria     672 non-null    object        \n",
      " 1   Indicador        672 non-null    object        \n",
      " 2   Periodo          712 non-null    int64         \n",
      " 3   Gastos/Estancia  708 non-null    float64       \n",
      " 4   Categoria        712 non-null    object        \n",
      " 5   Tipo de gasto    40 non-null     object        \n",
      " 6   Fecha            712 non-null    datetime64[ns]\n",
      "dtypes: datetime64[ns](1), float64(1), int64(1), object(4)\n",
      "memory usage: 39.1+ KB\n",
      "None\n"
     ]
    }
   ],
   "source": [
    "# Cargar los datos de gasto en dataframes\n",
    "gasto_via_acceso = pd.read_csv(\"larioja.org/Turismo/Encuestas turísticas/Encuesta de Gasto Turístico en La Rioja/1-Gasto de los turistas internacionales según via de acceso principal.csv\")\n",
    "gasto_alojamiento_principal = pd.read_csv(\"larioja.org/Turismo/Encuestas turísticas/Encuesta de Gasto Turístico en La Rioja/2-Gasto de los turistas internacionales según alojamiento principal.csv\")\n",
    "gasto_motivo_viaje = pd.read_csv(\"larioja.org/Turismo/Encuestas turísticas/Encuesta de Gasto Turístico en La Rioja/3-Gasto de los turistas internacionales según motivo principal del viaje.csv\")\n",
    "gasto_pais_residencia = pd.read_csv(\"larioja.org/Turismo/Encuestas turísticas/Encuesta de Gasto Turístico en La Rioja/4-Gasto de los turistas internacionales según país de residencia.csv\")\n",
    "gasto_organizacion_viaje = pd.read_csv(\"larioja.org/Turismo/Encuestas turísticas/Encuesta de Gasto Turístico en La Rioja/5-Gasto de los turistas internacionales según forma organización del viaje.csv\")\n",
    "gasto_duracion_viaje = pd.read_csv(\"larioja.org/Turismo/Encuestas turísticas/Encuesta de Gasto Turístico en La Rioja/6-Gasto de los turistas internacionales según duración del viaje.csv\")\n",
    "gasto_partidas = pd.read_csv(\"larioja.org/Turismo/Encuestas turísticas/Encuesta de Gasto Turístico en La Rioja/7-Gasto de los turistas internacionales según partidas de gasto.csv\")\n",
    "\n",
    "# Añadir columna que identifica la categoría en cada dataframe\n",
    "gasto_via_acceso['Categoria'] = 'Via de acceso'\n",
    "gasto_alojamiento_principal['Categoria'] = 'Tipo de alojamiento'\n",
    "gasto_motivo_viaje['Categoria'] = 'Motivo del viaje'\n",
    "gasto_pais_residencia['Categoria'] = 'País de residencia'\n",
    "gasto_organizacion_viaje['Categoria'] = 'Forma de organización'\n",
    "gasto_duracion_viaje['Categoria'] = 'Duración del viaje'\n",
    "gasto_partidas['Categoria'] = 'Partidas de gasto'\n",
    "\n",
    "# Renombrar las columnas \"DATA\" a \"Gastos\" y otras columnas para que sean consistentes en todos los dataframes\n",
    "gasto_via_acceso.rename(columns={'DATA': 'Gastos/Estancia', 'Via de acceso': 'Subcategoria'}, inplace=True)\n",
    "gasto_alojamiento_principal.rename(columns={'DATA': 'Gastos/Estancia', 'Tipo de alojamiento': 'Subcategoria'}, inplace=True)\n",
    "gasto_motivo_viaje.rename(columns={'DATA': 'Gastos/Estancia', 'Motivo del viaje': 'Subcategoria'}, inplace=True)\n",
    "gasto_pais_residencia.rename(columns={'DATA': 'Gastos/Estancia', 'País de residencia': 'Subcategoria'}, inplace=True)\n",
    "gasto_organizacion_viaje.rename(columns={'DATA': 'Gastos/Estancia', 'Forma de organización del viaje': 'Subcategoria'}, inplace=True)\n",
    "gasto_duracion_viaje.rename(columns={'DATA': 'Gastos/Estancia', 'Duración del viaje': 'Subcategoria'}, inplace=True)\n",
    "gasto_partidas.rename(columns={'DATA': 'Gastos/Estancia', 'Partidas de gasto': 'Subcategoria'}, inplace=True)\n",
    "\n",
    "# Concatenar todos los dataframes de gasto\n",
    "df_combinado_gasto = pd.concat([gasto_via_acceso, \n",
    "                                gasto_alojamiento_principal, \n",
    "                                gasto_motivo_viaje, \n",
    "                                gasto_pais_residencia, \n",
    "                                gasto_organizacion_viaje, \n",
    "                                gasto_duracion_viaje, \n",
    "                                gasto_partidas], \n",
    "                               axis=0, ignore_index=True)\n",
    "\n",
    "# Convertir la columna 'Periodo' a formato fecha, manteniendo solo el año\n",
    "df_combinado_gasto['Fecha'] = pd.to_datetime(df_combinado_gasto['Periodo'].astype(str), format='%Y')\n",
    "\n",
    "# Verificar el DataFrame combinado de gasto\n",
    "print(df_combinado_gasto.head())\n",
    "print(df_combinado_gasto.info())"
   ]
  },
  {
   "cell_type": "code",
   "execution_count": 30,
   "metadata": {},
   "outputs": [
    {
     "data": {
      "text/html": [
       "<div>\n",
       "<style scoped>\n",
       "    .dataframe tbody tr th:only-of-type {\n",
       "        vertical-align: middle;\n",
       "    }\n",
       "\n",
       "    .dataframe tbody tr th {\n",
       "        vertical-align: top;\n",
       "    }\n",
       "\n",
       "    .dataframe thead th {\n",
       "        text-align: right;\n",
       "    }\n",
       "</style>\n",
       "<table border=\"1\" class=\"dataframe\">\n",
       "  <thead>\n",
       "    <tr style=\"text-align: right;\">\n",
       "      <th></th>\n",
       "      <th>Subcategoria</th>\n",
       "      <th>Indicador</th>\n",
       "      <th>Periodo</th>\n",
       "      <th>Gastos/Estancia</th>\n",
       "      <th>Categoria</th>\n",
       "      <th>Tipo de gasto</th>\n",
       "      <th>Fecha</th>\n",
       "    </tr>\n",
       "  </thead>\n",
       "  <tbody>\n",
       "    <tr>\n",
       "      <th>0</th>\n",
       "      <td>TOTAL</td>\n",
       "      <td>Gasto total</td>\n",
       "      <td>2016</td>\n",
       "      <td>93087.88</td>\n",
       "      <td>Via de acceso</td>\n",
       "      <td>NaN</td>\n",
       "      <td>2016-01-01</td>\n",
       "    </tr>\n",
       "    <tr>\n",
       "      <th>1</th>\n",
       "      <td>TOTAL</td>\n",
       "      <td>Gasto total</td>\n",
       "      <td>2017</td>\n",
       "      <td>101962.17</td>\n",
       "      <td>Via de acceso</td>\n",
       "      <td>NaN</td>\n",
       "      <td>2017-01-01</td>\n",
       "    </tr>\n",
       "    <tr>\n",
       "      <th>2</th>\n",
       "      <td>TOTAL</td>\n",
       "      <td>Gasto total</td>\n",
       "      <td>2018</td>\n",
       "      <td>101126.50</td>\n",
       "      <td>Via de acceso</td>\n",
       "      <td>NaN</td>\n",
       "      <td>2018-01-01</td>\n",
       "    </tr>\n",
       "    <tr>\n",
       "      <th>3</th>\n",
       "      <td>TOTAL</td>\n",
       "      <td>Gasto total</td>\n",
       "      <td>2019</td>\n",
       "      <td>98201.73</td>\n",
       "      <td>Via de acceso</td>\n",
       "      <td>NaN</td>\n",
       "      <td>2019-01-01</td>\n",
       "    </tr>\n",
       "    <tr>\n",
       "      <th>4</th>\n",
       "      <td>TOTAL</td>\n",
       "      <td>Gasto total</td>\n",
       "      <td>2020</td>\n",
       "      <td>21835.28</td>\n",
       "      <td>Via de acceso</td>\n",
       "      <td>NaN</td>\n",
       "      <td>2020-01-01</td>\n",
       "    </tr>\n",
       "  </tbody>\n",
       "</table>\n",
       "</div>"
      ],
      "text/plain": [
       "  Subcategoria    Indicador  Periodo  Gastos/Estancia      Categoria  \\\n",
       "0        TOTAL  Gasto total     2016         93087.88  Via de acceso   \n",
       "1        TOTAL  Gasto total     2017        101962.17  Via de acceso   \n",
       "2        TOTAL  Gasto total     2018        101126.50  Via de acceso   \n",
       "3        TOTAL  Gasto total     2019         98201.73  Via de acceso   \n",
       "4        TOTAL  Gasto total     2020         21835.28  Via de acceso   \n",
       "\n",
       "  Tipo de gasto      Fecha  \n",
       "0           NaN 2016-01-01  \n",
       "1           NaN 2017-01-01  \n",
       "2           NaN 2018-01-01  \n",
       "3           NaN 2019-01-01  \n",
       "4           NaN 2020-01-01  "
      ]
     },
     "execution_count": 30,
     "metadata": {},
     "output_type": "execute_result"
    }
   ],
   "source": [
    "df_combinado_gasto.head()"
   ]
  },
  {
   "cell_type": "code",
   "execution_count": 31,
   "metadata": {},
   "outputs": [
    {
     "name": "stdout",
     "output_type": "stream",
     "text": [
      "  Subcategoria    Indicador  Periodo Gastos/Estancia      Categoria  \\\n",
      "0        TOTAL  Gasto total     2016        93087.88  Via de acceso   \n",
      "1        TOTAL  Gasto total     2017       101962.17  Via de acceso   \n",
      "2        TOTAL  Gasto total     2018        101126.5  Via de acceso   \n",
      "3        TOTAL  Gasto total     2019        98201.73  Via de acceso   \n",
      "4        TOTAL  Gasto total     2020        21835.28  Via de acceso   \n",
      "\n",
      "   Tipo de gasto      Fecha  \n",
      "0  No disponible 2016-01-01  \n",
      "1  No disponible 2017-01-01  \n",
      "2  No disponible 2018-01-01  \n",
      "3  No disponible 2019-01-01  \n",
      "4  No disponible 2020-01-01  \n",
      "<class 'pandas.core.frame.DataFrame'>\n",
      "RangeIndex: 712 entries, 0 to 711\n",
      "Data columns (total 7 columns):\n",
      " #   Column           Non-Null Count  Dtype         \n",
      "---  ------           --------------  -----         \n",
      " 0   Subcategoria     712 non-null    object        \n",
      " 1   Indicador        712 non-null    object        \n",
      " 2   Periodo          712 non-null    int64         \n",
      " 3   Gastos/Estancia  712 non-null    object        \n",
      " 4   Categoria        712 non-null    object        \n",
      " 5   Tipo de gasto    712 non-null    object        \n",
      " 6   Fecha            712 non-null    datetime64[ns]\n",
      "dtypes: datetime64[ns](1), int64(1), object(5)\n",
      "memory usage: 39.1+ KB\n",
      "None\n"
     ]
    }
   ],
   "source": [
    "# Cambiar todos los valores NaN a 'No disponible'\n",
    "df_combinado_gasto = df_combinado_gasto.fillna('No disponible')\n",
    "\n",
    "print(df_combinado_gasto.head())\n",
    "print(df_combinado_gasto.info())"
   ]
  },
  {
   "cell_type": "code",
   "execution_count": 32,
   "metadata": {},
   "outputs": [
    {
     "name": "stdout",
     "output_type": "stream",
     "text": [
      "              Subcategoria                       Indicador  Periodo  \\\n",
      "516  Con paquete turístico                     Gasto total     2020   \n",
      "524  Con paquete turístico         Gasto medio por persona     2020   \n",
      "532  Con paquete turístico  Gasto medio diario por persona     2020   \n",
      "540  Con paquete turístico    Duración media de los viajes     2020   \n",
      "\n",
      "    Gastos/Estancia              Categoria  Tipo de gasto      Fecha  \n",
      "516   No disponible  Forma de organización  No disponible 2020-01-01  \n",
      "524   No disponible  Forma de organización  No disponible 2020-01-01  \n",
      "532   No disponible  Forma de organización  No disponible 2020-01-01  \n",
      "540   No disponible  Forma de organización  No disponible 2020-01-01  \n"
     ]
    }
   ],
   "source": [
    "filtrado = df_combinado_gasto[df_combinado_gasto['Gastos/Estancia'] == 'No disponible']\n",
    "\n",
    "# Mostrar las filas filtradas\n",
    "print(filtrado)"
   ]
  },
  {
   "cell_type": "code",
   "execution_count": 33,
   "metadata": {},
   "outputs": [],
   "source": [
    "\n",
    "# df_combinado_gasto.to_csv('df_combinado_gasto.csv', index=False)"
   ]
  },
  {
   "cell_type": "code",
   "execution_count": 34,
   "metadata": {},
   "outputs": [
    {
     "data": {
      "text/plain": [
       "Index(['Subcategoria', 'Indicador', 'Periodo', 'Gastos/Estancia', 'Categoria',\n",
       "       'Tipo de gasto', 'Fecha'],\n",
       "      dtype='object')"
      ]
     },
     "execution_count": 34,
     "metadata": {},
     "output_type": "execute_result"
    }
   ],
   "source": [
    "df_combinado_gasto.columns"
   ]
  },
  {
   "cell_type": "code",
   "execution_count": 35,
   "metadata": {},
   "outputs": [
    {
     "data": {
      "text/plain": [
       "Index(['Subcategoria', 'Periodo', 'Numero de Turistas', 'Categoria', 'Fecha'], dtype='object')"
      ]
     },
     "execution_count": 35,
     "metadata": {},
     "output_type": "execute_result"
    }
   ],
   "source": [
    "df_combinado.columns"
   ]
  },
  {
   "cell_type": "code",
   "execution_count": 36,
   "metadata": {},
   "outputs": [
    {
     "name": "stdout",
     "output_type": "stream",
     "text": [
      "<class 'pandas.core.frame.DataFrame'>\n",
      "RangeIndex: 880 entries, 0 to 879\n",
      "Data columns (total 8 columns):\n",
      " #   Column              Non-Null Count  Dtype         \n",
      "---  ------              --------------  -----         \n",
      " 0   Subcategoria        880 non-null    object        \n",
      " 1   Periodo             880 non-null    int64         \n",
      " 2   Numero de Turistas  880 non-null    object        \n",
      " 3   Categoria           880 non-null    object        \n",
      " 4   Fecha               880 non-null    datetime64[ns]\n",
      " 5   Indicador           880 non-null    object        \n",
      " 6   Gastos/Estancia     880 non-null    object        \n",
      " 7   Tipo de gasto       880 non-null    object        \n",
      "dtypes: datetime64[ns](1), int64(1), object(6)\n",
      "memory usage: 55.1+ KB\n",
      "None\n"
     ]
    },
    {
     "name": "stderr",
     "output_type": "stream",
     "text": [
      "/var/folders/wh/08n7f9ss5fg4m5kv9303vl8m0000gn/T/ipykernel_1035/406281713.py:7: FutureWarning: Setting an item of incompatible dtype is deprecated and will raise in a future error of pandas. Value 'No disponible' has dtype incompatible with float64, please explicitly cast to a compatible dtype first.\n",
      "  df_combinado_turistas_gastos.fillna('No disponible', inplace=True)\n"
     ]
    }
   ],
   "source": [
    "# Concatenar los DataFrames\n",
    "df1 = pd.DataFrame(df_combinado)\n",
    "df2 = pd.DataFrame(df_combinado_gasto)\n",
    "\n",
    "\n",
    "df_combinado_turistas_gastos = pd.concat([df1, df2], ignore_index=True)\n",
    "df_combinado_turistas_gastos.fillna('No disponible', inplace=True)\n",
    "\n",
    "# Mostrar el DataFrame concatenado\n",
    "print(df_combinado_turistas_gastos.info())"
   ]
  },
  {
   "cell_type": "code",
   "execution_count": 37,
   "metadata": {},
   "outputs": [],
   "source": [
    "# df_combinado_turistas_gastos.to_csv('df_combinado_turistas_gastos.csv', index=False)"
   ]
  },
  {
   "cell_type": "code",
   "execution_count": 38,
   "metadata": {},
   "outputs": [
    {
     "name": "stdout",
     "output_type": "stream",
     "text": [
      "<class 'pandas.core.frame.DataFrame'>\n",
      "RangeIndex: 6696 entries, 0 to 6695\n",
      "Data columns (total 5 columns):\n",
      " #   Column     Non-Null Count  Dtype  \n",
      "---  ------     --------------  -----  \n",
      " 0   Periodo    6696 non-null   object \n",
      " 1   Municipio  6696 non-null   object \n",
      " 2   Indicador  6696 non-null   object \n",
      " 3   Categoría  6696 non-null   object \n",
      " 4   DATA       2182 non-null   float64\n",
      "dtypes: float64(1), object(4)\n",
      "memory usage: 261.7+ KB\n"
     ]
    },
    {
     "data": {
      "text/plain": [
       "(None,\n",
       "    Periodo Municipio                                          Indicador  \\\n",
       " 0  2016M01  LA RIOJA  Facturación media por cada habitación ocupada ...   \n",
       " 1  2016M01  LA RIOJA  Facturación media por cada habitación ocupada ...   \n",
       " 2  2016M01  LA RIOJA  Facturación media por cada habitación ocupada ...   \n",
       " 3  2016M01  LA RIOJA  Facturación media por cada habitación ocupada ...   \n",
       " 4  2016M01  LA RIOJA  Facturación media por cada habitación ocupada ...   \n",
       " \n",
       "               Categoría   DATA  \n",
       " 0                 TOTAL  56.87  \n",
       " 1    4 estrellas de oro  77.26  \n",
       " 2    3 estrellas de oro  51.87  \n",
       " 3    2 estrellas de oro  42.25  \n",
       " 4  2 estrellas de plata  47.06  )"
      ]
     },
     "execution_count": 38,
     "metadata": {},
     "output_type": "execute_result"
    }
   ],
   "source": [
    "df_adr_revpar = pd.read_csv(\"larioja.org/Turismo/Precios turísticos/Índice de precios e indicadores de rentabilidad del sector hotelero de La Rioja/2-Adr y RevPar de puntos turísticos por categorías, municipio y meses 20603002.csv\")\n",
    "df_adr_revpar.info(), df_adr_revpar.head()"
   ]
  },
  {
   "cell_type": "code",
   "execution_count": 39,
   "metadata": {},
   "outputs": [
    {
     "data": {
      "text/html": [
       "<div>\n",
       "<style scoped>\n",
       "    .dataframe tbody tr th:only-of-type {\n",
       "        vertical-align: middle;\n",
       "    }\n",
       "\n",
       "    .dataframe tbody tr th {\n",
       "        vertical-align: top;\n",
       "    }\n",
       "\n",
       "    .dataframe thead th {\n",
       "        text-align: right;\n",
       "    }\n",
       "</style>\n",
       "<table border=\"1\" class=\"dataframe\">\n",
       "  <thead>\n",
       "    <tr style=\"text-align: right;\">\n",
       "      <th></th>\n",
       "      <th>Periodo</th>\n",
       "      <th>Municipio</th>\n",
       "      <th>Indicador</th>\n",
       "      <th>Categoría</th>\n",
       "      <th>DATA</th>\n",
       "      <th>Fecha Mes</th>\n",
       "    </tr>\n",
       "  </thead>\n",
       "  <tbody>\n",
       "    <tr>\n",
       "      <th>5102</th>\n",
       "      <td>2022M04</td>\n",
       "      <td>Santo Domingo de la Calzada</td>\n",
       "      <td>Facturación media por cada habitación ocupada ...</td>\n",
       "      <td>3 estrellas de oro</td>\n",
       "      <td>NaN</td>\n",
       "      <td>2022-04-01</td>\n",
       "    </tr>\n",
       "  </tbody>\n",
       "</table>\n",
       "</div>"
      ],
      "text/plain": [
       "      Periodo                    Municipio  \\\n",
       "5102  2022M04  Santo Domingo de la Calzada   \n",
       "\n",
       "                                              Indicador           Categoría  \\\n",
       "5102  Facturación media por cada habitación ocupada ...  3 estrellas de oro   \n",
       "\n",
       "      DATA  Fecha Mes  \n",
       "5102   NaN 2022-04-01  "
      ]
     },
     "execution_count": 39,
     "metadata": {},
     "output_type": "execute_result"
    }
   ],
   "source": [
    "df_adr_revpar['Fecha Mes'] = pd.to_datetime(df_adr_revpar['Periodo'].str[:4] + '-' + df_adr_revpar['Periodo'].str[5:])\n",
    "\n",
    "# Mostrar el DataFrame con la nueva columna\n",
    "df_adr_revpar.sample()"
   ]
  },
  {
   "cell_type": "code",
   "execution_count": 40,
   "metadata": {},
   "outputs": [],
   "source": [
    "# df_adr_revpar.to_csv('df_adr_revpar.csv', index=False)\n"
   ]
  },
  {
   "cell_type": "markdown",
   "metadata": {},
   "source": [
    "Revisar Correlaciones"
   ]
  },
  {
   "cell_type": "code",
   "execution_count": null,
   "metadata": {},
   "outputs": [],
   "source": []
  },
  {
   "cell_type": "markdown",
   "metadata": {},
   "source": [
    "Revisar Nulos:"
   ]
  },
  {
   "cell_type": "markdown",
   "metadata": {},
   "source": []
  }
 ],
 "metadata": {
  "kernelspec": {
   "display_name": "base",
   "language": "python",
   "name": "python3"
  },
  "language_info": {
   "codemirror_mode": {
    "name": "ipython",
    "version": 3
   },
   "file_extension": ".py",
   "mimetype": "text/x-python",
   "name": "python",
   "nbconvert_exporter": "python",
   "pygments_lexer": "ipython3",
   "version": "3.11.8"
  }
 },
 "nbformat": 4,
 "nbformat_minor": 2
}
