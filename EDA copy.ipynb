{
 "cells": [
  {
   "cell_type": "code",
   "execution_count": 10,
   "metadata": {},
   "outputs": [
    {
     "name": "stdout",
     "output_type": "stream",
     "text": [
      "Primeras filas de df_viajeros después de la limpieza y ajustes:\n",
      "   Periodo Tipo de establecimiento Indicador      CCAA  \\\n",
      "0  1999M01                   TOTAL  Viajeros  La Rioja   \n",
      "1  1999M01                   TOTAL  Viajeros  La Rioja   \n",
      "2  1999M01                   TOTAL  Viajeros  La Rioja   \n",
      "3  1999M01                   TOTAL  Viajeros    Espańa   \n",
      "4  1999M01                   TOTAL  Viajeros    Espańa   \n",
      "\n",
      "                Residencia     DATA      Fecha  \n",
      "0                    TOTAL    16668 1999-01-01  \n",
      "1     Residentes en Espańa    15676 1999-01-01  \n",
      "2  No residentes en Espańa      992 1999-01-01  \n",
      "3                    TOTAL  2834243 1999-01-01  \n",
      "4     Residentes en Espańa  1738167 1999-01-01  \n",
      "Primeras filas de df_estancia_media después de la limpieza y ajustes:\n",
      "    Periodo Tipo de establecimiento      CCAA  DATA      Fecha\n",
      "0   1999M01                 Hoteles  La Rioja   1.7 1999-01-01\n",
      "1   1999M01                 Hoteles    Espańa   3.8 1999-01-01\n",
      "2   1999M01                 Camping  La Rioja  18.6 1999-01-01\n",
      "3   1999M01                 Camping    Espańa  75.1 1999-01-01\n",
      "10  1999M02                 Hoteles  La Rioja   1.8 1999-02-01\n",
      "Archivos exportados con éxito.\n"
     ]
    }
   ],
   "source": [
    "import pandas as pd\n",
    "\n",
    "# Definir las rutas a los archivos\n",
    "ruta_segun_estrellas = \"larioja.org/Turismo/Ocupación turística/Ocupación en establecimientos turísticos de La Rioja/Principales resultados de ocupación hotelera y extrahotelera/1-Viajeros y pernoctaciones en alojamientos turísticos según tipo de establecimiento y procedencia del viajero.csv\"\n",
    "ruta_residencia = \"larioja.org/Turismo/Ocupación turística/Ocupación en establecimientos turísticos de La Rioja/Principales resultados de ocupación hotelera y extrahotelera/2-Estancia media según tipo de alojamiento-20608002.csv\"\n",
    "\n",
    "# Cargar los datos en dataframes\n",
    "df_viajeros = pd.read_csv(ruta_segun_estrellas, delimiter=';', decimal=',')\n",
    "df_estancia_media = pd.read_csv(ruta_residencia, delimiter=';', decimal=',')\n",
    "\n",
    "# Separar las columnas correctamente\n",
    "df_viajeros[['Periodo', 'Tipo de establecimiento', 'Indicador', 'CCAA', 'Residencia', 'DATA']] = df_viajeros['Periodo,Tipo de establecimiento,Indicador,CCAA,Residencia,DATA'].str.split(',', expand=True)\n",
    "df_viajeros.drop(columns=['Periodo,Tipo de establecimiento,Indicador,CCAA,Residencia,DATA'], inplace=True)\n",
    "\n",
    "df_estancia_media[['Periodo', 'Tipo de establecimiento', 'CCAA', 'DATA']] = df_estancia_media['Periodo,Tipo de establecimiento,CCAA,DATA'].str.split(',', expand=True)\n",
    "df_estancia_media.drop(columns=['Periodo,Tipo de establecimiento,CCAA,DATA'], inplace=True)\n",
    "\n",
    "# Crear una nueva columna de fecha a partir de 'Periodo'\n",
    "df_viajeros['Fecha'] = pd.to_datetime(df_viajeros['Periodo'].str[:4] + '-' + df_viajeros['Periodo'].str[5:] + '-01')\n",
    "df_estancia_media['Fecha'] = pd.to_datetime(df_estancia_media['Periodo'].str[:4] + '-' + df_estancia_media['Periodo'].str[5:] + '-01')\n",
    "\n",
    "# Convertir la columna DATA a numérico, reemplazando las comas por puntos y forzando la conversión\n",
    "df_viajeros['DATA'] = pd.to_numeric(df_viajeros['DATA'].str.replace('.', '').str.replace(',', '.'), errors='coerce')\n",
    "df_estancia_media['DATA'] = pd.to_numeric(df_estancia_media['DATA'].str.replace('.', '').str.replace(',', '.'), errors='coerce')\n",
    "\n",
    "# Manejar valores nulos\n",
    "df_viajeros.dropna(inplace=True)\n",
    "df_estancia_media.dropna(inplace=True)\n",
    "\n",
    "# Ajustar los valores en la columna DATA dividiéndolos por 10 en df_estancia_media\n",
    "df_estancia_media['DATA'] = df_estancia_media['DATA'] / 10\n",
    "\n",
    "# Convertir la columna DATA a int en df_viajeros\n",
    "df_viajeros['DATA'] = df_viajeros['DATA'].astype(int)\n",
    "\n",
    "# Convertir la columna DATA a float en df_estancia_media\n",
    "df_estancia_media['DATA'] = df_estancia_media['DATA'].astype(float)\n",
    "\n",
    "# Verificar las primeras filas para confirmar la limpieza y ajustes\n",
    "print(\"Primeras filas de df_viajeros después de la limpieza y ajustes:\")\n",
    "print(df_viajeros.head())\n",
    "\n",
    "print(\"Primeras filas de df_estancia_media después de la limpieza y ajustes:\")\n",
    "print(df_estancia_media.head())\n",
    "\n",
    "# # Exportar df_viajeros a un archivo CSV asegurando que los números son enteros\n",
    "# df_viajeros.to_csv('df_viajeros_limpio.csv', index=False)\n",
    "\n",
    "# # Exportar df_estancia_media a un archivo CSV asegurando que los números son decimales\n",
    "# df_estancia_media.to_csv('df_estancia_media_limpio.csv', index=False, float_format='%.2f')\n",
    "\n",
    "print(\"Archivos exportados con éxito.\")\n"
   ]
  },
  {
   "cell_type": "code",
   "execution_count": 11,
   "metadata": {},
   "outputs": [
    {
     "name": "stdout",
     "output_type": "stream",
     "text": [
      "Columnas de df_estrellas: Index(['Periodo,Categoría,Residencia viajero,DATA'], dtype='object')\n",
      "Columnas de df_residencia: Index(['Periodo,País de residencia,Medida,DATA'], dtype='object')\n",
      "Primeras filas de df_estrellas después de la limpieza y ajustes:\n",
      "   Periodo        Categoría       Residencia viajero     DATA      Fecha\n",
      "0  2015M01            TOTAL                    TOTAL  2736773 2015-01-01\n",
      "1  2015M01            TOTAL     Residentes en Espańa  2444523 2015-01-01\n",
      "2  2015M01            TOTAL  No residentes en Espańa    29225 2015-01-01\n",
      "3  2015M01  4 y 5 estrellas                    TOTAL    10658 2015-01-01\n",
      "4  2015M01  4 y 5 estrellas     Residentes en Espańa   923784 2015-01-01\n",
      "Primeras filas de df_residencia después de la limpieza y ajustes:\n",
      "   Periodo      País de residencia          Medida     DATA      Fecha\n",
      "0  2015M01                   TOTAL        Viajeros  2736773 2015-01-01\n",
      "1  2015M01                   TOTAL  Pernoctaciones  4515939 2015-01-01\n",
      "2  2015M01    RESIDENTES EN ESPAŃA        Viajeros  2444523 2015-01-01\n",
      "3  2015M01    RESIDENTES EN ESPAŃA  Pernoctaciones  4019216 2015-01-01\n",
      "4  2015M01  NO RESIDENTE EN ESPAŃA        Viajeros    29225 2015-01-01\n",
      "Archivos exportados con éxito.\n"
     ]
    }
   ],
   "source": [
    "# Definir las rutas a los archivos\n",
    "ruta_segun_estrellas = \"larioja.org/Turismo/Ocupación turística/Ocupación en establecimientos turísticos de La Rioja/Encuesta de ocupación hotelera de La Rioja/Viajeros y pernoctaciones/1-Viajeros según categoría del establecimiento y residencia del viajero-20602001.csv\"\n",
    "ruta_residencia = \"larioja.org/Turismo/Ocupación turística/Ocupación en establecimientos turísticos de La Rioja/Encuesta de ocupación hotelera de La Rioja/Viajeros y pernoctaciones/5-Viajeros y Pernoctaciones por país de residencia.csv\"\n",
    "\n",
    "# Cargar los datos en dataframes\n",
    "df_estrellas = pd.read_csv(ruta_segun_estrellas, delimiter=';', decimal=',')\n",
    "df_residencia = pd.read_csv(ruta_residencia, delimiter=';', decimal=',')\n",
    "\n",
    "# Verificar los nombres de las columnas\n",
    "print(\"Columnas de df_estrellas:\", df_estrellas.columns)\n",
    "print(\"Columnas de df_residencia:\", df_residencia.columns)\n",
    "\n",
    "# Separar las columnas adecuadamente\n",
    "df_estrellas[['Periodo', 'Categoría', 'Residencia viajero', 'DATA']] = df_estrellas['Periodo,Categoría,Residencia viajero,DATA'].str.split(',', expand=True)\n",
    "df_residencia[['Periodo', 'País de residencia', 'Medida', 'DATA']] = df_residencia['Periodo,País de residencia,Medida,DATA'].str.split(',', expand=True)\n",
    "\n",
    "# Eliminar la columna original combinada\n",
    "df_estrellas.drop(columns=['Periodo,Categoría,Residencia viajero,DATA'], inplace=True)\n",
    "df_residencia.drop(columns=['Periodo,País de residencia,Medida,DATA'], inplace=True)\n",
    "\n",
    "# Crear una nueva columna de fecha a partir de 'Periodo'\n",
    "df_estrellas['Fecha'] = pd.to_datetime(df_estrellas['Periodo'].str[:4] + '-' + df_estrellas['Periodo'].str[5:] + '-01')\n",
    "df_residencia['Fecha'] = pd.to_datetime(df_residencia['Periodo'].str[:4] + '-' + df_residencia['Periodo'].str[5:] + '-01')\n",
    "\n",
    "# Convertir la columna DATA a numérico, reemplazando las comas por puntos y forzando la conversión\n",
    "df_estrellas['DATA'] = pd.to_numeric(df_estrellas['DATA'].str.replace('.', '').str.replace(',', '.'), errors='coerce')\n",
    "df_residencia['DATA'] = pd.to_numeric(df_residencia['DATA'].str.replace('.', '').str.replace(',', '.'), errors='coerce')\n",
    "\n",
    "# Manejar valores nulos\n",
    "df_estrellas.dropna(inplace=True)\n",
    "df_residencia.dropna(inplace=True)\n",
    "\n",
    "# Convertir la columna DATA a int en df_viajeros\n",
    "df_estrellas['DATA'] = df_estrellas['DATA'].astype(int)\n",
    "\n",
    "# Convertir la columna DATA a int en df_estancia_media\n",
    "df_residencia['DATA'] = df_residencia['DATA'].astype(int)\n",
    "\n",
    "# Verificar las primeras filas para confirmar la limpieza y ajustes\n",
    "print(\"Primeras filas de df_estrellas después de la limpieza y ajustes:\")\n",
    "print(df_estrellas.head())\n",
    "\n",
    "print(\"Primeras filas de df_residencia después de la limpieza y ajustes:\")\n",
    "print(df_residencia.head())\n",
    "\n",
    "# # Exportar df_estrellas a un archivo CSV asegurando que los números son enteros\n",
    "# df_estrellas.to_csv('df_estrellas_limpio.csv', index=False)\n",
    "\n",
    "# # Exportar df_residencia a un archivo CSV asegurando que los números son decimales\n",
    "# df_residencia.to_csv('df_residencia_limpio.csv', index=False)\n",
    "\n",
    "print(\"Archivos exportados con éxito.\")\n"
   ]
  },
  {
   "cell_type": "code",
   "execution_count": 13,
   "metadata": {},
   "outputs": [
    {
     "name": "stdout",
     "output_type": "stream",
     "text": [
      "<class 'pandas.core.frame.DataFrame'>\n",
      "RangeIndex: 32 entries, 0 to 31\n",
      "Data columns (total 3 columns):\n",
      " #   Column            Non-Null Count  Dtype  \n",
      "---  ------            --------------  -----  \n",
      " 0   Motivo del viaje  32 non-null     object \n",
      " 1   Periodo           32 non-null     int64  \n",
      " 2   DATA              32 non-null     float64\n",
      "dtypes: float64(1), int64(1), object(1)\n",
      "memory usage: 900.0+ bytes\n"
     ]
    },
    {
     "data": {
      "text/plain": [
       "(  Motivo del viaje  Periodo      DATA\n",
       " 0            TOTAL     2016  150778.8\n",
       " 1            TOTAL     2017  124188.8\n",
       " 2            TOTAL     2018  142926.4\n",
       " 3            TOTAL     2019  139497.3\n",
       " 4            TOTAL     2020   45355.2,\n",
       " None)"
      ]
     },
     "execution_count": 13,
     "metadata": {},
     "output_type": "execute_result"
    }
   ],
   "source": [
    "df_motivo_viaje = pd.read_csv('larioja.org/Turismo/Encuestas turísticas/Estadística de Movimientos Turísticos en Fronteras para La Rioja/3-Número de turistas según motivo principal del viaje.csv')\n",
    "df_motivo_viaje.head(), df_motivo_viaje.info()"
   ]
  },
  {
   "cell_type": "code",
   "execution_count": 21,
   "metadata": {},
   "outputs": [
    {
     "name": "stdout",
     "output_type": "stream",
     "text": [
      "  Motivo del viaje  Periodo      DATA      Fecha\n",
      "0            TOTAL     2016  150778.8 2016-01-01\n",
      "1            TOTAL     2017  124188.8 2017-01-01\n",
      "2            TOTAL     2018  142926.4 2018-01-01\n",
      "3            TOTAL     2019  139497.3 2019-01-01\n",
      "4            TOTAL     2020   45355.2 2020-01-01\n",
      "<class 'pandas.core.frame.DataFrame'>\n",
      "RangeIndex: 32 entries, 0 to 31\n",
      "Data columns (total 4 columns):\n",
      " #   Column            Non-Null Count  Dtype         \n",
      "---  ------            --------------  -----         \n",
      " 0   Motivo del viaje  32 non-null     object        \n",
      " 1   Periodo           32 non-null     int64         \n",
      " 2   DATA              32 non-null     float64       \n",
      " 3   Fecha             32 non-null     datetime64[ns]\n",
      "dtypes: datetime64[ns](1), float64(1), int64(1), object(1)\n",
      "memory usage: 1.1+ KB\n",
      "None\n"
     ]
    }
   ],
   "source": [
    "# Convertir la columna 'Periodo' a string, añadir un '-01-01' para convertirlo en una fecha y luego a datetime\n",
    "df_motivo_viaje ['Fecha'] = pd.to_datetime(df_motivo_viaje ['Periodo'].astype(str) + '-01-01')\n",
    "\n",
    "# Verificar las primeras filas para confirmar la conversión\n",
    "print(df_motivo_viaje .head())\n",
    "print(df_motivo_viaje .info())"
   ]
  },
  {
   "cell_type": "code",
   "execution_count": 17,
   "metadata": {},
   "outputs": [
    {
     "name": "stdout",
     "output_type": "stream",
     "text": [
      "<class 'pandas.core.frame.DataFrame'>\n",
      "RangeIndex: 24 entries, 0 to 23\n",
      "Data columns (total 3 columns):\n",
      " #   Column         Non-Null Count  Dtype  \n",
      "---  ------         --------------  -----  \n",
      " 0   Via de acceso  24 non-null     object \n",
      " 1   Periodo        24 non-null     int64  \n",
      " 2   DATA           24 non-null     float64\n",
      "dtypes: float64(1), int64(1), object(1)\n",
      "memory usage: 708.0+ bytes\n"
     ]
    },
    {
     "data": {
      "text/plain": [
       "(  Via de acceso  Periodo      DATA\n",
       " 0         TOTAL     2016  150778.8\n",
       " 1         TOTAL     2017  124188.8\n",
       " 2         TOTAL     2018  142926.4\n",
       " 3         TOTAL     2019  139497.3\n",
       " 4         TOTAL     2020   45355.2,\n",
       " None)"
      ]
     },
     "execution_count": 17,
     "metadata": {},
     "output_type": "execute_result"
    }
   ],
   "source": [
    "df_via_acceso = pd.read_csv('larioja.org/Turismo/Encuestas turísticas/Estadística de Movimientos Turísticos en Fronteras para La Rioja/1-Número de turistas según via de acceso principal.csv')\n",
    "df_via_acceso.head(), df_via_acceso.info()"
   ]
  },
  {
   "cell_type": "code",
   "execution_count": 18,
   "metadata": {},
   "outputs": [
    {
     "name": "stdout",
     "output_type": "stream",
     "text": [
      "  Via de acceso  Periodo      DATA      Fecha\n",
      "0         TOTAL     2016  150778.8 2016-01-01\n",
      "1         TOTAL     2017  124188.8 2017-01-01\n",
      "2         TOTAL     2018  142926.4 2018-01-01\n",
      "3         TOTAL     2019  139497.3 2019-01-01\n",
      "4         TOTAL     2020   45355.2 2020-01-01\n",
      "<class 'pandas.core.frame.DataFrame'>\n",
      "RangeIndex: 24 entries, 0 to 23\n",
      "Data columns (total 4 columns):\n",
      " #   Column         Non-Null Count  Dtype         \n",
      "---  ------         --------------  -----         \n",
      " 0   Via de acceso  24 non-null     object        \n",
      " 1   Periodo        24 non-null     int64         \n",
      " 2   DATA           24 non-null     float64       \n",
      " 3   Fecha          24 non-null     datetime64[ns]\n",
      "dtypes: datetime64[ns](1), float64(1), int64(1), object(1)\n",
      "memory usage: 900.0+ bytes\n",
      "None\n"
     ]
    }
   ],
   "source": [
    "df_via_acceso['Fecha'] = pd.to_datetime(df_via_acceso['Periodo'].astype(str) + '-01-01')\n",
    "\n",
    "# Verificar las primeras filas para confirmar la conversión\n",
    "print(df_via_acceso.head())\n",
    "print(df_via_acceso.info())"
   ]
  },
  {
   "cell_type": "code",
   "execution_count": 22,
   "metadata": {},
   "outputs": [
    {
     "name": "stdout",
     "output_type": "stream",
     "text": [
      "<class 'pandas.core.frame.DataFrame'>\n",
      "RangeIndex: 24 entries, 0 to 23\n",
      "Data columns (total 4 columns):\n",
      " #   Column         Non-Null Count  Dtype         \n",
      "---  ------         --------------  -----         \n",
      " 0   Via de acceso  24 non-null     object        \n",
      " 1   Periodo        24 non-null     int64         \n",
      " 2   DATA           24 non-null     float64       \n",
      " 3   Fecha          24 non-null     datetime64[ns]\n",
      "dtypes: datetime64[ns](1), float64(1), int64(1), object(1)\n",
      "memory usage: 900.0+ bytes\n"
     ]
    },
    {
     "data": {
      "text/plain": [
       "(  Forma de organización del viaje  Periodo      DATA\n",
       " 0                           TOTAL     2016  150778.8\n",
       " 1                           TOTAL     2017  124188.8\n",
       " 2                           TOTAL     2018  142926.4\n",
       " 3                           TOTAL     2019  139497.3\n",
       " 4                           TOTAL     2020   45355.2,\n",
       " None)"
      ]
     },
     "execution_count": 22,
     "metadata": {},
     "output_type": "execute_result"
    }
   ],
   "source": [
    "df_organizacion = pd.read_csv('larioja.org/Turismo/Encuestas turísticas/Estadística de Movimientos Turísticos en Fronteras para La Rioja/5-Número de turistas según organización del viaje.csv')\n",
    "df_organizacion.head(), df_via_acceso.info()\n"
   ]
  },
  {
   "cell_type": "code",
   "execution_count": 24,
   "metadata": {},
   "outputs": [
    {
     "name": "stdout",
     "output_type": "stream",
     "text": [
      "  Forma de organización del viaje  Periodo      DATA      Fecha\n",
      "0                           TOTAL     2016  150778.8 2016-01-01\n",
      "1                           TOTAL     2017  124188.8 2017-01-01\n",
      "2                           TOTAL     2018  142926.4 2018-01-01\n",
      "3                           TOTAL     2019  139497.3 2019-01-01\n",
      "4                           TOTAL     2020   45355.2 2020-01-01\n",
      "<class 'pandas.core.frame.DataFrame'>\n",
      "RangeIndex: 24 entries, 0 to 23\n",
      "Data columns (total 4 columns):\n",
      " #   Column                           Non-Null Count  Dtype         \n",
      "---  ------                           --------------  -----         \n",
      " 0   Forma de organización del viaje  24 non-null     object        \n",
      " 1   Periodo                          24 non-null     int64         \n",
      " 2   DATA                             24 non-null     float64       \n",
      " 3   Fecha                            24 non-null     datetime64[ns]\n",
      "dtypes: datetime64[ns](1), float64(1), int64(1), object(1)\n",
      "memory usage: 900.0+ bytes\n",
      "None\n"
     ]
    }
   ],
   "source": [
    "df_organizacion ['Fecha'] = pd.to_datetime(df_organizacion ['Periodo'].astype(str) + '-01-01')\n",
    "\n",
    "# Verificar las primeras filas para confirmar la conversión\n",
    "print(df_organizacion .head())\n",
    "print(df_organizacion .info())"
   ]
  },
  {
   "cell_type": "code",
   "execution_count": 25,
   "metadata": {},
   "outputs": [
    {
     "name": "stdout",
     "output_type": "stream",
     "text": [
      "<class 'pandas.core.frame.DataFrame'>\n",
      "RangeIndex: 24 entries, 0 to 23\n",
      "Data columns (total 3 columns):\n",
      " #   Column               Non-Null Count  Dtype  \n",
      "---  ------               --------------  -----  \n",
      " 0   Tipo de alojamiento  24 non-null     object \n",
      " 1   Periodo              24 non-null     int64  \n",
      " 2   DATA                 24 non-null     float64\n",
      "dtypes: float64(1), int64(1), object(1)\n",
      "memory usage: 708.0+ bytes\n"
     ]
    },
    {
     "data": {
      "text/plain": [
       "(  Tipo de alojamiento  Periodo      DATA\n",
       " 0               TOTAL     2016  150778.8\n",
       " 1               TOTAL     2017  124188.8\n",
       " 2               TOTAL     2018  142926.4\n",
       " 3               TOTAL     2019  139497.3\n",
       " 4               TOTAL     2020   45355.2,\n",
       " None)"
      ]
     },
     "execution_count": 25,
     "metadata": {},
     "output_type": "execute_result"
    }
   ],
   "source": [
    "df_alojamiento_principal= pd.read_csv('larioja.org/Turismo/Encuestas turísticas/Estadística de Movimientos Turísticos en Fronteras para La Rioja/2-Número de turistas según alojamiento principal.csv')\n",
    "df_alojamiento_principal.head(), df_alojamiento_principal.info()"
   ]
  },
  {
   "cell_type": "code",
   "execution_count": 26,
   "metadata": {},
   "outputs": [
    {
     "name": "stdout",
     "output_type": "stream",
     "text": [
      "  Tipo de alojamiento  Periodo      DATA      Fecha\n",
      "0               TOTAL     2016  150778.8 2016-01-01\n",
      "1               TOTAL     2017  124188.8 2017-01-01\n",
      "2               TOTAL     2018  142926.4 2018-01-01\n",
      "3               TOTAL     2019  139497.3 2019-01-01\n",
      "4               TOTAL     2020   45355.2 2020-01-01\n",
      "<class 'pandas.core.frame.DataFrame'>\n",
      "RangeIndex: 24 entries, 0 to 23\n",
      "Data columns (total 4 columns):\n",
      " #   Column               Non-Null Count  Dtype         \n",
      "---  ------               --------------  -----         \n",
      " 0   Tipo de alojamiento  24 non-null     object        \n",
      " 1   Periodo              24 non-null     int64         \n",
      " 2   DATA                 24 non-null     float64       \n",
      " 3   Fecha                24 non-null     datetime64[ns]\n",
      "dtypes: datetime64[ns](1), float64(1), int64(1), object(1)\n",
      "memory usage: 900.0+ bytes\n",
      "None\n"
     ]
    }
   ],
   "source": [
    "df_alojamiento_principal['Fecha'] = pd.to_datetime(df_alojamiento_principal['Periodo'].astype(str) + '-01-01')\n",
    "\n",
    "# Verificar las primeras filas para confirmar la conversión\n",
    "print(df_alojamiento_principal.head())\n",
    "print(df_alojamiento_principal.info())"
   ]
  },
  {
   "cell_type": "code",
   "execution_count": 31,
   "metadata": {},
   "outputs": [
    {
     "name": "stdout",
     "output_type": "stream",
     "text": [
      "<class 'pandas.core.frame.DataFrame'>\n",
      "RangeIndex: 24 entries, 0 to 23\n",
      "Data columns (total 3 columns):\n",
      " #   Column              Non-Null Count  Dtype  \n",
      "---  ------              --------------  -----  \n",
      " 0   Duración del viaje  24 non-null     object \n",
      " 1   Periodo             24 non-null     int64  \n",
      " 2   DATA                24 non-null     float64\n",
      "dtypes: float64(1), int64(1), object(1)\n",
      "memory usage: 708.0+ bytes\n"
     ]
    },
    {
     "data": {
      "text/plain": [
       "(  Duración del viaje  Periodo      DATA\n",
       " 0              TOTAL     2016  150778.8\n",
       " 1              TOTAL     2017  124188.8\n",
       " 2              TOTAL     2018  142926.4\n",
       " 3              TOTAL     2019  139497.3\n",
       " 4              TOTAL     2020   45355.2,\n",
       " None)"
      ]
     },
     "execution_count": 31,
     "metadata": {},
     "output_type": "execute_result"
    }
   ],
   "source": [
    "df_num_turis_duracion_viaje= pd.read_csv('larioja.org/Turismo/Encuestas turísticas/Estadística de Movimientos Turísticos en Fronteras para La Rioja/6-Número de turistas según duración del viaje.csv')\n",
    "df_num_turis_duracion_viaje.head(),df_num_turis_duracion_viaje.info()"
   ]
  },
  {
   "cell_type": "code",
   "execution_count": 32,
   "metadata": {},
   "outputs": [
    {
     "name": "stdout",
     "output_type": "stream",
     "text": [
      "  Duración del viaje  Periodo      DATA      Fecha\n",
      "0              TOTAL     2016  150778.8 2016-01-01\n",
      "1              TOTAL     2017  124188.8 2017-01-01\n",
      "2              TOTAL     2018  142926.4 2018-01-01\n",
      "3              TOTAL     2019  139497.3 2019-01-01\n",
      "4              TOTAL     2020   45355.2 2020-01-01\n",
      "<class 'pandas.core.frame.DataFrame'>\n",
      "RangeIndex: 24 entries, 0 to 23\n",
      "Data columns (total 4 columns):\n",
      " #   Column              Non-Null Count  Dtype         \n",
      "---  ------              --------------  -----         \n",
      " 0   Duración del viaje  24 non-null     object        \n",
      " 1   Periodo             24 non-null     int64         \n",
      " 2   DATA                24 non-null     float64       \n",
      " 3   Fecha               24 non-null     datetime64[ns]\n",
      "dtypes: datetime64[ns](1), float64(1), int64(1), object(1)\n",
      "memory usage: 900.0+ bytes\n",
      "None\n"
     ]
    }
   ],
   "source": [
    "df_num_turis_duracion_viaje['Fecha'] = pd.to_datetime(df_num_turis_duracion_viaje['Periodo'].astype(str) + '-01-01')\n",
    "\n",
    "# Verificar las primeras filas para confirmar la conversión\n",
    "print(df_num_turis_duracion_viaje.head())\n",
    "print(df_num_turis_duracion_viaje.info())"
   ]
  },
  {
   "cell_type": "code",
   "execution_count": 34,
   "metadata": {},
   "outputs": [],
   "source": [
    "# df_motivo_viaje.to_csv('df_motivo_viaje_limpio.csv', index=False)\n",
    "# df_via_acceso.to_csv('df_via_acceso_limpio.csv', index=False)\n",
    "# df_organizacion.to_csv('df_organizacion_limpio.csv', index=False)\n",
    "# df_alojamiento_principal.to_csv('df_alojamiento_principal_limpio.csv', index=False)\n",
    "# df_num_turis_duracion_viaje.to_csv('df_num_turis_duracion_viaje_limpio.csv', index=False)"
   ]
  },
  {
   "cell_type": "markdown",
   "metadata": {},
   "source": [
    "### Gastos Turistas Internacionales:"
   ]
  },
  {
   "cell_type": "code",
   "execution_count": 33,
   "metadata": {},
   "outputs": [
    {
     "name": "stdout",
     "output_type": "stream",
     "text": [
      "<class 'pandas.core.frame.DataFrame'>\n",
      "RangeIndex: 128 entries, 0 to 127\n",
      "Data columns (total 4 columns):\n",
      " #   Column            Non-Null Count  Dtype  \n",
      "---  ------            --------------  -----  \n",
      " 0   Motivo del viaje  128 non-null    object \n",
      " 1   Indicador         128 non-null    object \n",
      " 2   Periodo           128 non-null    int64  \n",
      " 3   DATA              128 non-null    float64\n",
      "dtypes: float64(1), int64(1), object(2)\n",
      "memory usage: 4.1+ KB\n"
     ]
    },
    {
     "data": {
      "text/plain": [
       "(  Motivo del viaje    Indicador  Periodo       DATA\n",
       " 0            TOTAL  Gasto total     2016   93087.88\n",
       " 1            TOTAL  Gasto total     2017  101962.17\n",
       " 2            TOTAL  Gasto total     2018  101126.50\n",
       " 3            TOTAL  Gasto total     2019   98201.73\n",
       " 4            TOTAL  Gasto total     2020   21835.28,\n",
       " None)"
      ]
     },
     "execution_count": 33,
     "metadata": {},
     "output_type": "execute_result"
    }
   ],
   "source": [
    "df_gasto_motivo_viaje= pd.read_csv('larioja.org/Turismo/Encuestas turísticas/Encuesta de Gasto Turístico en La Rioja/3-Gasto de los turistas internacionales según motivo principal del viaje.csv')\n",
    "df_gasto_motivo_viaje.head(),df_gasto_motivo_viaje.info()"
   ]
  },
  {
   "cell_type": "code",
   "execution_count": 35,
   "metadata": {},
   "outputs": [
    {
     "name": "stdout",
     "output_type": "stream",
     "text": [
      "  Motivo del viaje    Indicador  Periodo       DATA      Fecha\n",
      "0            TOTAL  Gasto total     2016   93087.88 2016-01-01\n",
      "1            TOTAL  Gasto total     2017  101962.17 2017-01-01\n",
      "2            TOTAL  Gasto total     2018  101126.50 2018-01-01\n",
      "3            TOTAL  Gasto total     2019   98201.73 2019-01-01\n",
      "4            TOTAL  Gasto total     2020   21835.28 2020-01-01\n",
      "<class 'pandas.core.frame.DataFrame'>\n",
      "RangeIndex: 128 entries, 0 to 127\n",
      "Data columns (total 5 columns):\n",
      " #   Column            Non-Null Count  Dtype         \n",
      "---  ------            --------------  -----         \n",
      " 0   Motivo del viaje  128 non-null    object        \n",
      " 1   Indicador         128 non-null    object        \n",
      " 2   Periodo           128 non-null    int64         \n",
      " 3   DATA              128 non-null    float64       \n",
      " 4   Fecha             128 non-null    datetime64[ns]\n",
      "dtypes: datetime64[ns](1), float64(1), int64(1), object(2)\n",
      "memory usage: 5.1+ KB\n",
      "None\n"
     ]
    }
   ],
   "source": [
    "df_gasto_motivo_viaje['Fecha'] = pd.to_datetime(df_gasto_motivo_viaje['Periodo'].astype(str) + '-01-01')\n",
    "\n",
    "# Verificar las primeras filas para confirmar la conversión\n",
    "print(df_gasto_motivo_viaje.head())\n",
    "print(df_gasto_motivo_viaje.info())"
   ]
  },
  {
   "cell_type": "code",
   "execution_count": 36,
   "metadata": {},
   "outputs": [
    {
     "name": "stdout",
     "output_type": "stream",
     "text": [
      "<class 'pandas.core.frame.DataFrame'>\n",
      "RangeIndex: 96 entries, 0 to 95\n",
      "Data columns (total 4 columns):\n",
      " #   Column              Non-Null Count  Dtype  \n",
      "---  ------              --------------  -----  \n",
      " 0   Duración del viaje  96 non-null     object \n",
      " 1   Indicador           96 non-null     object \n",
      " 2   Periodo             96 non-null     int64  \n",
      " 3   DATA                96 non-null     float64\n",
      "dtypes: float64(1), int64(1), object(2)\n",
      "memory usage: 3.1+ KB\n"
     ]
    },
    {
     "data": {
      "text/plain": [
       "(  Duración del viaje    Indicador  Periodo       DATA\n",
       " 0              TOTAL  Gasto total     2016   93087.88\n",
       " 1              TOTAL  Gasto total     2017  101962.17\n",
       " 2              TOTAL  Gasto total     2018  101126.50\n",
       " 3              TOTAL  Gasto total     2019   98201.73\n",
       " 4              TOTAL  Gasto total     2020   21835.28,\n",
       " None)"
      ]
     },
     "execution_count": 36,
     "metadata": {},
     "output_type": "execute_result"
    }
   ],
   "source": [
    "df_gasto_duracion_viaje= pd.read_csv('larioja.org/Turismo/Encuestas turísticas/Encuesta de Gasto Turístico en La Rioja/6-Gasto de los turistas internacionales según duración del viaje.csv')\n",
    "df_gasto_duracion_viaje.head(),df_gasto_duracion_viaje.info()"
   ]
  },
  {
   "cell_type": "code",
   "execution_count": 37,
   "metadata": {},
   "outputs": [
    {
     "name": "stdout",
     "output_type": "stream",
     "text": [
      "  Duración del viaje    Indicador  Periodo       DATA      Fecha\n",
      "0              TOTAL  Gasto total     2016   93087.88 2016-01-01\n",
      "1              TOTAL  Gasto total     2017  101962.17 2017-01-01\n",
      "2              TOTAL  Gasto total     2018  101126.50 2018-01-01\n",
      "3              TOTAL  Gasto total     2019   98201.73 2019-01-01\n",
      "4              TOTAL  Gasto total     2020   21835.28 2020-01-01\n",
      "<class 'pandas.core.frame.DataFrame'>\n",
      "RangeIndex: 96 entries, 0 to 95\n",
      "Data columns (total 5 columns):\n",
      " #   Column              Non-Null Count  Dtype         \n",
      "---  ------              --------------  -----         \n",
      " 0   Duración del viaje  96 non-null     object        \n",
      " 1   Indicador           96 non-null     object        \n",
      " 2   Periodo             96 non-null     int64         \n",
      " 3   DATA                96 non-null     float64       \n",
      " 4   Fecha               96 non-null     datetime64[ns]\n",
      "dtypes: datetime64[ns](1), float64(1), int64(1), object(2)\n",
      "memory usage: 3.9+ KB\n",
      "None\n"
     ]
    }
   ],
   "source": [
    "df_gasto_duracion_viaje['Fecha'] = pd.to_datetime(df_gasto_duracion_viaje['Periodo'].astype(str) + '-01-01')\n",
    "\n",
    "# Verificar las primeras filas para confirmar la conversión\n",
    "print(df_gasto_duracion_viaje.head())\n",
    "print(df_gasto_duracion_viaje.info())"
   ]
  },
  {
   "cell_type": "code",
   "execution_count": 38,
   "metadata": {},
   "outputs": [
    {
     "name": "stdout",
     "output_type": "stream",
     "text": [
      "<class 'pandas.core.frame.DataFrame'>\n",
      "RangeIndex: 160 entries, 0 to 159\n",
      "Data columns (total 4 columns):\n",
      " #   Column              Non-Null Count  Dtype  \n",
      "---  ------              --------------  -----  \n",
      " 0   País de residencia  160 non-null    object \n",
      " 1   Indicador           160 non-null    object \n",
      " 2   Periodo             160 non-null    int64  \n",
      " 3   DATA                160 non-null    float64\n",
      "dtypes: float64(1), int64(1), object(2)\n",
      "memory usage: 5.1+ KB\n"
     ]
    },
    {
     "data": {
      "text/plain": [
       "(  País de residencia    Indicador  Periodo       DATA\n",
       " 0              TOTAL  Gasto total     2016   93087.88\n",
       " 1              TOTAL  Gasto total     2017  101962.17\n",
       " 2              TOTAL  Gasto total     2018  101126.50\n",
       " 3              TOTAL  Gasto total     2019   98201.73\n",
       " 4              TOTAL  Gasto total     2020   21835.28,\n",
       " None)"
      ]
     },
     "execution_count": 38,
     "metadata": {},
     "output_type": "execute_result"
    }
   ],
   "source": [
    "df_gasto_segun_residencia= pd.read_csv('larioja.org/Turismo/Encuestas turísticas/Encuesta de Gasto Turístico en La Rioja/4-Gasto de los turistas internacionales según país de residencia.csv')\n",
    "df_gasto_segun_residencia.head(),df_gasto_segun_residencia.info()"
   ]
  },
  {
   "cell_type": "code",
   "execution_count": 39,
   "metadata": {},
   "outputs": [
    {
     "name": "stdout",
     "output_type": "stream",
     "text": [
      "  País de residencia    Indicador  Periodo       DATA      Fecha\n",
      "0              TOTAL  Gasto total     2016   93087.88 2016-01-01\n",
      "1              TOTAL  Gasto total     2017  101962.17 2017-01-01\n",
      "2              TOTAL  Gasto total     2018  101126.50 2018-01-01\n",
      "3              TOTAL  Gasto total     2019   98201.73 2019-01-01\n",
      "4              TOTAL  Gasto total     2020   21835.28 2020-01-01\n",
      "<class 'pandas.core.frame.DataFrame'>\n",
      "RangeIndex: 160 entries, 0 to 159\n",
      "Data columns (total 5 columns):\n",
      " #   Column              Non-Null Count  Dtype         \n",
      "---  ------              --------------  -----         \n",
      " 0   País de residencia  160 non-null    object        \n",
      " 1   Indicador           160 non-null    object        \n",
      " 2   Periodo             160 non-null    int64         \n",
      " 3   DATA                160 non-null    float64       \n",
      " 4   Fecha               160 non-null    datetime64[ns]\n",
      "dtypes: datetime64[ns](1), float64(1), int64(1), object(2)\n",
      "memory usage: 6.4+ KB\n",
      "None\n"
     ]
    }
   ],
   "source": [
    "df_gasto_segun_residencia['Fecha'] = pd.to_datetime(df_gasto_segun_residencia['Periodo'].astype(str) + '-01-01')\n",
    "\n",
    "# Verificar las primeras filas para confirmar la conversión\n",
    "print(df_gasto_segun_residencia.head())\n",
    "print(df_gasto_segun_residencia.info())"
   ]
  },
  {
   "cell_type": "code",
   "execution_count": 40,
   "metadata": {},
   "outputs": [],
   "source": [
    "# df_gasto_motivo_viaje.to_csv('df_gasto_motivo_viaje_limpio.csv', index=False)\n",
    "# df_gasto_duracion_viaje.to_csv('df_gasto_duracion_viaje_limpio.csv', index=False)\n",
    "# df_gasto_segun_residencia.to_csv('df_gasto_segun_residencia_limpio.csv', index=False)"
   ]
  },
  {
   "cell_type": "markdown",
   "metadata": {},
   "source": [
    "### Precios turísticos:"
   ]
  },
  {
   "cell_type": "code",
   "execution_count": 41,
   "metadata": {},
   "outputs": [
    {
     "name": "stdout",
     "output_type": "stream",
     "text": [
      "<class 'pandas.core.frame.DataFrame'>\n",
      "RangeIndex: 6696 entries, 0 to 6695\n",
      "Data columns (total 5 columns):\n",
      " #   Column     Non-Null Count  Dtype  \n",
      "---  ------     --------------  -----  \n",
      " 0   Periodo    6696 non-null   object \n",
      " 1   Municipio  6696 non-null   object \n",
      " 2   Indicador  6696 non-null   object \n",
      " 3   Categoría  6696 non-null   object \n",
      " 4   DATA       2182 non-null   float64\n",
      "dtypes: float64(1), object(4)\n",
      "memory usage: 261.7+ KB\n"
     ]
    },
    {
     "data": {
      "text/plain": [
       "(   Periodo Municipio                                          Indicador  \\\n",
       " 0  2016M01  LA RIOJA  Facturación media por cada habitación ocupada ...   \n",
       " 1  2016M01  LA RIOJA  Facturación media por cada habitación ocupada ...   \n",
       " 2  2016M01  LA RIOJA  Facturación media por cada habitación ocupada ...   \n",
       " 3  2016M01  LA RIOJA  Facturación media por cada habitación ocupada ...   \n",
       " 4  2016M01  LA RIOJA  Facturación media por cada habitación ocupada ...   \n",
       " \n",
       "               Categoría   DATA  \n",
       " 0                 TOTAL  56.87  \n",
       " 1    4 estrellas de oro  77.26  \n",
       " 2    3 estrellas de oro  51.87  \n",
       " 3    2 estrellas de oro  42.25  \n",
       " 4  2 estrellas de plata  47.06  ,\n",
       " None)"
      ]
     },
     "execution_count": 41,
     "metadata": {},
     "output_type": "execute_result"
    }
   ],
   "source": [
    "df_adr_revpar= pd.read_csv('larioja.org/Turismo/Precios turísticos/Índice de precios e indicadores de rentabilidad del sector hotelero de La Rioja/2-Adr y RevPar de puntos turísticos por categorías, municipio y meses 20603002.csv')\n",
    "df_adr_revpar.head(),df_adr_revpar.info()"
   ]
  },
  {
   "cell_type": "code",
   "execution_count": 45,
   "metadata": {},
   "outputs": [
    {
     "name": "stdout",
     "output_type": "stream",
     "text": [
      "   Periodo Municipio                                          Indicador  \\\n",
      "0  2016M01  LA RIOJA  Facturación media por cada habitación ocupada ...   \n",
      "1  2016M01  LA RIOJA  Facturación media por cada habitación ocupada ...   \n",
      "2  2016M01  LA RIOJA  Facturación media por cada habitación ocupada ...   \n",
      "3  2016M01  LA RIOJA  Facturación media por cada habitación ocupada ...   \n",
      "4  2016M01  LA RIOJA  Facturación media por cada habitación ocupada ...   \n",
      "\n",
      "              Categoría   DATA      Fecha  \n",
      "0                 TOTAL  56.87 2016-01-01  \n",
      "1    4 estrellas de oro  77.26 2016-01-01  \n",
      "2    3 estrellas de oro  51.87 2016-01-01  \n",
      "3    2 estrellas de oro  42.25 2016-01-01  \n",
      "4  2 estrellas de plata  47.06 2016-01-01  \n",
      "<class 'pandas.core.frame.DataFrame'>\n",
      "Index: 2182 entries, 0 to 6678\n",
      "Data columns (total 6 columns):\n",
      " #   Column     Non-Null Count  Dtype         \n",
      "---  ------     --------------  -----         \n",
      " 0   Periodo    2182 non-null   object        \n",
      " 1   Municipio  2182 non-null   object        \n",
      " 2   Indicador  2182 non-null   object        \n",
      " 3   Categoría  2182 non-null   object        \n",
      " 4   DATA       2182 non-null   float64       \n",
      " 5   Fecha      2182 non-null   datetime64[ns]\n",
      "dtypes: datetime64[ns](1), float64(1), object(4)\n",
      "memory usage: 119.3+ KB\n",
      "None\n"
     ]
    }
   ],
   "source": [
    "df_adr_revpar['Fecha'] = pd.to_datetime(df_adr_revpar['Periodo'].str[:4] + '-' + df_adr_revpar['Periodo'].str[5:] + '-01')\n",
    "df_adr_revpar.dropna(inplace=True)\n",
    "# Verificar las primeras filas para confirmar la conversión\n",
    "print(df_adr_revpar.head())\n",
    "print(df_adr_revpar.info())"
   ]
  },
  {
   "cell_type": "code",
   "execution_count": 48,
   "metadata": {},
   "outputs": [
    {
     "name": "stdout",
     "output_type": "stream",
     "text": [
      "<class 'pandas.core.frame.DataFrame'>\n",
      "RangeIndex: 96 entries, 0 to 95\n",
      "Data columns (total 4 columns):\n",
      " #   Column                           Non-Null Count  Dtype  \n",
      "---  ------                           --------------  -----  \n",
      " 0   Forma de organización del viaje  96 non-null     object \n",
      " 1   Indicador                        96 non-null     object \n",
      " 2   Periodo                          96 non-null     int64  \n",
      " 3   DATA                             92 non-null     float64\n",
      "dtypes: float64(1), int64(1), object(2)\n",
      "memory usage: 3.1+ KB\n"
     ]
    },
    {
     "data": {
      "text/plain": [
       "(  Forma de organización del viaje    Indicador  Periodo       DATA\n",
       " 0                           TOTAL  Gasto total     2016   93087.88\n",
       " 1                           TOTAL  Gasto total     2017  101962.17\n",
       " 2                           TOTAL  Gasto total     2018  101126.50\n",
       " 3                           TOTAL  Gasto total     2019   98201.73\n",
       " 4                           TOTAL  Gasto total     2020   21835.28,\n",
       " None)"
      ]
     },
     "execution_count": 48,
     "metadata": {},
     "output_type": "execute_result"
    }
   ],
   "source": [
    "df_internacionales_organizacion_viaje= pd.read_csv('larioja.org/Turismo/Encuestas turísticas/Encuesta de Gasto Turístico en La Rioja/5-Gasto de los turistas internacionales según forma organización del viaje.csv')\n",
    "df_internacionales_organizacion_viaje.head(),df_internacionales_organizacion_viaje.info()"
   ]
  },
  {
   "cell_type": "code",
   "execution_count": 49,
   "metadata": {},
   "outputs": [
    {
     "name": "stdout",
     "output_type": "stream",
     "text": [
      "  Forma de organización del viaje    Indicador  Periodo       DATA      Fecha\n",
      "0                           TOTAL  Gasto total     2016   93087.88 2016-01-01\n",
      "1                           TOTAL  Gasto total     2017  101962.17 2017-01-01\n",
      "2                           TOTAL  Gasto total     2018  101126.50 2018-01-01\n",
      "3                           TOTAL  Gasto total     2019   98201.73 2019-01-01\n",
      "4                           TOTAL  Gasto total     2020   21835.28 2020-01-01\n",
      "<class 'pandas.core.frame.DataFrame'>\n",
      "Index: 92 entries, 0 to 95\n",
      "Data columns (total 5 columns):\n",
      " #   Column                           Non-Null Count  Dtype         \n",
      "---  ------                           --------------  -----         \n",
      " 0   Forma de organización del viaje  92 non-null     object        \n",
      " 1   Indicador                        92 non-null     object        \n",
      " 2   Periodo                          92 non-null     int64         \n",
      " 3   DATA                             92 non-null     float64       \n",
      " 4   Fecha                            92 non-null     datetime64[ns]\n",
      "dtypes: datetime64[ns](1), float64(1), int64(1), object(2)\n",
      "memory usage: 4.3+ KB\n",
      "None\n"
     ]
    }
   ],
   "source": [
    "df_internacionales_organizacion_viaje['Fecha'] = pd.to_datetime(df_internacionales_organizacion_viaje['Periodo'].astype(str) + '-01-01')\n",
    "df_internacionales_organizacion_viaje.dropna(inplace=True)\n",
    "# Verificar las primeras filas para confirmar la conversión\n",
    "print(df_internacionales_organizacion_viaje.head())\n",
    "print(df_internacionales_organizacion_viaje.info())"
   ]
  },
  {
   "cell_type": "code",
   "execution_count": 50,
   "metadata": {},
   "outputs": [],
   "source": [
    "# df_adr_revpar.to_csv('df_adr_revpar_limpio.csv', index=False)\n",
    "# df_internacionales_organizacion_viaje.to_csv('df_internacionales_organizacion_viaje_limpio.csv', index=False)"
   ]
  }
 ],
 "metadata": {
  "kernelspec": {
   "display_name": "base",
   "language": "python",
   "name": "python3"
  },
  "language_info": {
   "codemirror_mode": {
    "name": "ipython",
    "version": 3
   },
   "file_extension": ".py",
   "mimetype": "text/x-python",
   "name": "python",
   "nbconvert_exporter": "python",
   "pygments_lexer": "ipython3",
   "version": "3.11.8"
  }
 },
 "nbformat": 4,
 "nbformat_minor": 2
}
